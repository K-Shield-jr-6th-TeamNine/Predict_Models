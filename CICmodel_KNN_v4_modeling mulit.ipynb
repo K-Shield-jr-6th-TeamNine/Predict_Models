{
 "metadata": {
  "language_info": {
   "codemirror_mode": {
    "name": "ipython",
    "version": 3
   },
   "file_extension": ".py",
   "mimetype": "text/x-python",
   "name": "python",
   "nbconvert_exporter": "python",
   "pygments_lexer": "ipython3",
   "version": "3.7.10"
  },
  "orig_nbformat": 2,
  "kernelspec": {
   "name": "python3710jvsc74a57bd0620e002d894610d192a88151d250056391ddc05ad3c4fb7ca34afd5d55a43b94",
   "display_name": "Python 3.7.10 64-bit ('ml-ids': conda)"
  }
 },
 "nbformat": 4,
 "nbformat_minor": 2,
 "cells": [
  {
   "cell_type": "code",
   "execution_count": 1,
   "metadata": {},
   "outputs": [],
   "source": [
    "import numpy as np\n",
    "import pandas as pd\n",
    "#from sklearn.kernel_approximation import RBFSampler\n",
    "#from sklearn.linear_model import SGDClassifier\n",
    "#from sklearn.model_selection import train_test_split\n",
    "from sklearn import svm\n",
    "from sklearn.metrics import classification_report\n",
    "from sklearn import metrics\n",
    "#from sklearn.linear_model import LogisticRegression\n",
    "#from sklearn.naive_bayes import GaussianNB\n",
    "from sklearn.neighbors import KNeighborsClassifier\n",
    "from sklearn.tree import DecisionTreeClassifier\n",
    "from sklearn.metrics import (precision_score, recall_score,f1_score, accuracy_score,mean_squared_error,mean_absolute_error)\n",
    "#from sklearn.ensemble import AdaBoostClassifier\n",
    "from sklearn.ensemble import RandomForestClassifier\n",
    "from sklearn.preprocessing import Normalizer\n",
    "#from sklearn.model_selection import GridSearchCV\n",
    "from sklearn.svm import SVC\n",
    "from sklearn.metrics import confusion_matrix\n",
    "from sklearn.decomposition import PCA\n",
    "#from sklearn.metrics import auc"
   ]
  },
  {
   "cell_type": "code",
   "execution_count": 2,
   "metadata": {},
   "outputs": [],
   "source": [
    "# Read preprocessed dataset\n",
    "traindata = pd.read_csv('preprocessed_train_multi.csv')\n",
    "testdata = pd.read_csv('preprocessed_test_multi.csv')"
   ]
  },
  {
   "cell_type": "code",
   "execution_count": 3,
   "metadata": {},
   "outputs": [],
   "source": [
    "# Delete Unname and 70 columns\n",
    "X = traindata.iloc[0:,1:70]\n",
    "Y = traindata.iloc[0:,70]\n",
    "\n",
    "T = testdata.iloc[0:,1:70]\n",
    "C = testdata.iloc[0:,70]"
   ]
  },
  {
   "cell_type": "code",
   "execution_count": 4,
   "metadata": {},
   "outputs": [],
   "source": [
    "# Normalization\n",
    "scaler = Normalizer().fit(X)\n",
    "trainX = scaler.transform(X)\n",
    "scaler = Normalizer().fit(T)\n",
    "testT = scaler.transform(T)"
   ]
  },
  {
   "cell_type": "code",
   "execution_count": 5,
   "metadata": {},
   "outputs": [],
   "source": [
    "#Extract important variables\n",
    "#newcode pca train \n",
    "pca=PCA(n_components=50)\n",
    "pca.fit(trainX)\n",
    "x_train_pca=pca.transform(trainX)\n",
    "\n",
    "#newcode pca test\n",
    "pca.fit(testT)\n",
    "x_test_pca=pca.transform(testT) \n"
   ]
  },
  {
   "cell_type": "code",
   "execution_count": 6,
   "metadata": {},
   "outputs": [],
   "source": [
    "traindata = np.array(x_train_pca)\n",
    "trainlabel = np.array(Y)\n",
    "\n",
    "testdata = np.array(x_test_pca)\n",
    "testlabel = np.array(C)"
   ]
  },
  {
   "cell_type": "code",
   "execution_count": 7,
   "metadata": {},
   "outputs": [],
   "source": [
    "model = KNeighborsClassifier(n_neighbors=1)\n",
    "model = model.fit(traindata, trainlabel)\n",
    "\n",
    "# make predictions\n",
    "expected = testlabel\n",
    "## Actual class predictions\n",
    "predicted = model.predict(testdata)"
   ]
  },
  {
   "cell_type": "code",
   "execution_count": 8,
   "metadata": {},
   "outputs": [],
   "source": [
    "accuracy = accuracy_score(expected, predicted)"
   ]
  },
  {
   "cell_type": "code",
   "execution_count": 9,
   "metadata": {},
   "outputs": [
    {
     "output_type": "execute_result",
     "data": {
      "text/plain": [
       "0.9869610431165506"
      ]
     },
     "metadata": {},
     "execution_count": 9
    }
   ],
   "source": [
    "accuracy"
   ]
  },
  {
   "cell_type": "code",
   "execution_count": 10,
   "metadata": {},
   "outputs": [
    {
     "output_type": "stream",
     "name": "stderr",
     "text": [
      "ipykernel_launcher:3: RuntimeWarning: invalid value encountered in true_divide\n"
     ]
    }
   ],
   "source": [
    "cm = metrics.confusion_matrix(expected, predicted)\n",
    "tpr = float(cm[0][0])/np.sum(cm[0])\n",
    "fpr = float(cm[1][1])/np.sum(cm[1])"
   ]
  },
  {
   "cell_type": "code",
   "execution_count": 11,
   "metadata": {},
   "outputs": [
    {
     "output_type": "error",
     "ename": "SyntaxError",
     "evalue": "invalid syntax (<ipython-input-11-bdc2761374fc>, line 2)",
     "traceback": [
      "\u001b[1;36m  File \u001b[1;32m\"<ipython-input-11-bdc2761374fc>\"\u001b[1;36m, line \u001b[1;32m2\u001b[0m\n\u001b[1;33m    metrics.confusion_matrix(expected, predicted))\u001b[0m\n\u001b[1;37m                                                 ^\u001b[0m\n\u001b[1;31mSyntaxError\u001b[0m\u001b[1;31m:\u001b[0m invalid syntax\n"
     ]
    }
   ],
   "source": [
    "print (\"Confusion matrix: \")\n",
    "metrics.confusion_matrix(expected, predicted))\n",
    "# performance\n",
    "print (\"Classification report for %s\",  model)\n",
    "print (\"\\n\")\n",
    "print (metrics.classification_report(expected, predicted))"
   ]
  },
  {
   "cell_type": "code",
   "execution_count": 16,
   "metadata": {},
   "outputs": [],
   "source": [
    "predicted_result = pd.read_csv('total_noanswer.csv')"
   ]
  },
  {
   "cell_type": "code",
   "execution_count": 13,
   "metadata": {},
   "outputs": [
    {
     "output_type": "stream",
     "name": "stdout",
     "text": [
      "<class 'pandas.core.frame.DataFrame'>\nRangeIndex: 12501 entries, 0 to 12500\nData columns (total 79 columns):\n #   Column             Non-Null Count  Dtype  \n---  ------             --------------  -----  \n 0   dst_port           12501 non-null  int64  \n 1   protocol           12501 non-null  int64  \n 2   timestamp          12501 non-null  object \n 3   flow_duration      12501 non-null  int64  \n 4   tot_fwd_pkts       12501 non-null  int64  \n 5   tot_bwd_pkts       12501 non-null  int64  \n 6   totlen_fwd_pkts    12501 non-null  int64  \n 7   totlen_bwd_pkts    12501 non-null  int64  \n 8   fwd_pkt_len_max    12501 non-null  int64  \n 9   fwd_pkt_len_min    12501 non-null  int64  \n 10  fwd_pkt_len_mean   12501 non-null  float64\n 11  fwd_pkt_len_std    12501 non-null  float64\n 12  bwd_pkt_len_max    12501 non-null  int64  \n 13  bwd_pkt_len_min    12501 non-null  int64  \n 14  bwd_pkt_len_mean   12501 non-null  int64  \n 15  bwd_pkt_len_std    12501 non-null  int64  \n 16  flow_byts_s        12501 non-null  float64\n 17  flow_pkts_s        12501 non-null  float64\n 18  flow_iat_mean      12501 non-null  float64\n 19  flow_iat_std       12501 non-null  float64\n 20  flow_iat_max       12501 non-null  int64  \n 21  flow_iat_min       12501 non-null  int64  \n 22  fwd_iat_tot        12501 non-null  int64  \n 23  fwd_iat_mean       12501 non-null  float64\n 24  fwd_iat_std        12501 non-null  float64\n 25  fwd_iat_max        12501 non-null  int64  \n 26  fwd_iat_min        12501 non-null  int64  \n 27  bwd_iat_tot        12501 non-null  int64  \n 28  bwd_iat_mean       12501 non-null  int64  \n 29  bwd_iat_std        12501 non-null  int64  \n 30  bwd_iat_max        12501 non-null  int64  \n 31  bwd_iat_min        12501 non-null  int64  \n 32  fwd_psh_flags      12501 non-null  int64  \n 33  bwd_psh_flags      12501 non-null  int64  \n 34  fwd_urg_flags      12501 non-null  int64  \n 35  bwd_urg_flags      12501 non-null  int64  \n 36  fwd_header_len     12501 non-null  int64  \n 37  bwd_header_len     12501 non-null  int64  \n 38  fwd_pkts_s         12501 non-null  float64\n 39  bwd_pkts_s         12501 non-null  int64  \n 40  pkt_len_min        12501 non-null  int64  \n 41  pkt_len_max        12501 non-null  int64  \n 42  pkt_len_mean       12501 non-null  float64\n 43  pkt_len_std        12501 non-null  float64\n 44  pkt_len_var        12501 non-null  float64\n 45  fin_flag_cnt       12501 non-null  int64  \n 46  syn_flag_cnt       12501 non-null  int64  \n 47  rst_flag_cnt       12501 non-null  int64  \n 48  psh_flag_cnt       12501 non-null  int64  \n 49  ack_flag_cnt       12501 non-null  int64  \n 50  urg_flag_cnt       12501 non-null  int64  \n 51  cwe_flag_count     12501 non-null  int64  \n 52  ece_flag_cnt       12501 non-null  int64  \n 53  down_up_ratio      12501 non-null  int64  \n 54  pkt_size_avg       12501 non-null  float64\n 55  fwd_seg_size_avg   12501 non-null  float64\n 56  bwd_seg_size_avg   12501 non-null  int64  \n 57  fwd_byts_b_avg     12501 non-null  float64\n 58  fwd_pkts_b_avg     12501 non-null  float64\n 59  fwd_blk_rate_avg   12501 non-null  float64\n 60  bwd_byts_b_avg     12501 non-null  int64  \n 61  bwd_pkts_b_avg     12501 non-null  int64  \n 62  bwd_blk_rate_avg   12501 non-null  int64  \n 63  subflow_fwd_pkts   12501 non-null  int64  \n 64  subflow_fwd_byts   12501 non-null  int64  \n 65  subflow_bwd_pkts   12501 non-null  int64  \n 66  subflow_bwd_byts   12501 non-null  int64  \n 67  init_fwd_win_byts  12501 non-null  int64  \n 68  init_bwd_win_byts  12501 non-null  int64  \n 69  fwd_act_data_pkts  12501 non-null  int64  \n 70  fwd_seg_size_min   12501 non-null  int64  \n 71  active_mean        12501 non-null  float64\n 72  active_std         12501 non-null  float64\n 73  active_max         12501 non-null  int64  \n 74  active_min         12501 non-null  int64  \n 75  idle_mean          12501 non-null  float64\n 76  idle_std           12501 non-null  float64\n 77  idle_max           12501 non-null  int64  \n 78  idle_min           12501 non-null  int64  \ndtypes: float64(21), int64(57), object(1)\nmemory usage: 7.5+ MB\n"
     ]
    }
   ],
   "source": [
    "predicted_result = predicted_result.info()"
   ]
  },
  {
   "cell_type": "code",
   "execution_count": 17,
   "metadata": {},
   "outputs": [],
   "source": [
    "predicted_result.insert(79, 'label', predicted)"
   ]
  },
  {
   "cell_type": "code",
   "execution_count": 18,
   "metadata": {},
   "outputs": [],
   "source": [
    "predicted_result.to_csv('KNN.csv')"
   ]
  },
  {
   "cell_type": "code",
   "execution_count": null,
   "metadata": {},
   "outputs": [],
   "source": []
  }
 ]
}