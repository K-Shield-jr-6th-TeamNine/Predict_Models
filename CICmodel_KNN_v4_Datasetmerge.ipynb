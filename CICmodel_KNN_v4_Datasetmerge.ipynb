{
 "metadata": {
  "language_info": {
   "codemirror_mode": {
    "name": "ipython",
    "version": 3
   },
   "file_extension": ".py",
   "mimetype": "text/x-python",
   "name": "python",
   "nbconvert_exporter": "python",
   "pygments_lexer": "ipython3",
   "version": "3.7.10"
  },
  "orig_nbformat": 2,
  "kernelspec": {
   "name": "python3710jvsc74a57bd0620e002d894610d192a88151d250056391ddc05ad3c4fb7ca34afd5d55a43b94",
   "display_name": "Python 3.7.10 64-bit ('ml-ids': conda)"
  }
 },
 "nbformat": 4,
 "nbformat_minor": 2,
 "cells": [
  {
   "cell_type": "code",
   "execution_count": 1,
   "metadata": {},
   "outputs": [],
   "source": [
    "import numpy as np\n",
    "import pandas as pd"
   ]
  },
  {
   "cell_type": "code",
   "execution_count": 2,
   "metadata": {},
   "outputs": [],
   "source": [
    "df = pd.read_csv(\"03-02-2018.csv\")\n",
    "dataset0 = df.groupby('Label').apply(pd.DataFrame.sample, frac=0.1).reset_index(level='Label', drop=True)"
   ]
  },
  {
   "source": [
    "dataset0[\"Label\"].value_counts()"
   ],
   "cell_type": "code",
   "metadata": {},
   "execution_count": 3,
   "outputs": [
    {
     "output_type": "execute_result",
     "data": {
      "text/plain": [
       "Benign    76238\n",
       "Bot       28619\n",
       "Name: Label, dtype: int64"
      ]
     },
     "metadata": {},
     "execution_count": 3
    }
   ]
  },
  {
   "cell_type": "code",
   "execution_count": 4,
   "metadata": {},
   "outputs": [],
   "source": [
    "df = pd.read_csv(\"02-14-2018.csv\")\n",
    "dataset1 = df.groupby('Label').apply(pd.DataFrame.sample, frac=0.1).reset_index(level='Label', drop=True)"
   ]
  },
  {
   "cell_type": "code",
   "execution_count": 5,
   "metadata": {},
   "outputs": [
    {
     "output_type": "execute_result",
     "data": {
      "text/plain": [
       "Benign            66763\n",
       "FTP-BruteForce    19336\n",
       "SSH-Bruteforce    18759\n",
       "Name: Label, dtype: int64"
      ]
     },
     "metadata": {},
     "execution_count": 5
    }
   ],
   "source": [
    "dataset1[\"Label\"].value_counts()"
   ]
  },
  {
   "cell_type": "code",
   "execution_count": 6,
   "metadata": {},
   "outputs": [
    {
     "output_type": "execute_result",
     "data": {
      "text/plain": [
       "Benign                   99608\n",
       "DoS attacks-GoldenEye     4151\n",
       "DoS attacks-Slowloris     1099\n",
       "Name: Label, dtype: int64"
      ]
     },
     "metadata": {},
     "execution_count": 6
    }
   ],
   "source": [
    "df = pd.read_csv(\"02-15-2018.csv\")\n",
    "dataset2 = df.groupby('Label').apply(pd.DataFrame.sample, frac=0.1).reset_index(level='Label', drop=True)\n",
    "dataset2[\"Label\"].value_counts()"
   ]
  },
  {
   "cell_type": "code",
   "execution_count": 7,
   "metadata": {},
   "outputs": [
    {
     "output_type": "stream",
     "name": "stderr",
     "text": [
      "C:\\Users\\gmrdk\\anaconda3\\envs\\ml-ids\\lib\\site-packages\\IPython\\core\\interactiveshell.py:3166: DtypeWarning: Columns (0,1,3,4,5,6,7,8,9,10,11,12,13,14,15,16,17,18,19,20,21,22,23,24,25,26,27,28,29,30,31,32,33,34,35,36,37,38,39,40,41,42,43,44,45,46,47,48,49,50,51,52,53,54,55,56,57,58,59,60,61,62,63,64,65,66,67,68,69,70,71,72,73,74,75,76,77,78) have mixed types.Specify dtype option on import or set low_memory=False.\n  interactivity=interactivity, compiler=compiler, result=result)\n"
     ]
    },
    {
     "output_type": "execute_result",
     "data": {
      "text/plain": [
       "DoS attacks-Hulk            46191\n",
       "Benign                      44677\n",
       "DoS attacks-SlowHTTPTest    13989\n",
       "Name: Label, dtype: int64"
      ]
     },
     "metadata": {},
     "execution_count": 7
    }
   ],
   "source": [
    "df = pd.read_csv(\"02-16-2018.csv\")\n",
    "dataset3 = df.groupby('Label').apply(pd.DataFrame.sample, frac=0.1).reset_index(level='Label', drop=True)\n",
    "dataset3[\"Label\"].value_counts()"
   ]
  },
  {
   "cell_type": "code",
   "execution_count": 8,
   "metadata": {},
   "outputs": [
    {
     "output_type": "execute_result",
     "data": {
      "text/plain": [
       "Benign                    737256\n",
       "DDoS attacks-LOIC-HTTP     57619\n",
       "Name: Label, dtype: int64"
      ]
     },
     "metadata": {},
     "execution_count": 8
    }
   ],
   "source": [
    "df = pd.read_csv(\"02-20-2018.csv\")\n",
    "dataset4 = df.groupby('Label').apply(pd.DataFrame.sample, frac=0.1).reset_index(level='Label', drop=True)\n",
    "dataset4[\"Label\"].value_counts()"
   ]
  },
  {
   "cell_type": "code",
   "execution_count": 10,
   "metadata": {},
   "outputs": [],
   "source": [
    "dataset4 = dataset4.drop(columns=\"Flow ID\")\n",
    "dataset4 = dataset4.drop(columns=\"Src IP\")\n",
    "dataset4 = dataset4.drop(columns=\"Src Port\")\n",
    "dataset4 = dataset4.drop(columns=\"Dst IP\")"
   ]
  },
  {
   "cell_type": "code",
   "execution_count": 13,
   "metadata": {},
   "outputs": [
    {
     "output_type": "execute_result",
     "data": {
      "text/plain": [
       "DDOS attack-HOIC        68601\n",
       "Benign                  36083\n",
       "DDOS attack-LOIC-UDP      173\n",
       "Name: Label, dtype: int64"
      ]
     },
     "metadata": {},
     "execution_count": 13
    }
   ],
   "source": [
    "df = pd.read_csv(\"02-21-2018.csv\")\n",
    "dataset5 = df.groupby('Label').apply(pd.DataFrame.sample, frac=0.1).reset_index(level='Label', drop=True)\n",
    "dataset5[\"Label\"].value_counts()"
   ]
  },
  {
   "cell_type": "code",
   "execution_count": 14,
   "metadata": {},
   "outputs": [
    {
     "output_type": "execute_result",
     "data": {
      "text/plain": [
       "Benign              104821\n",
       "Brute Force -Web        25\n",
       "Brute Force -XSS         8\n",
       "SQL Injection            3\n",
       "Name: Label, dtype: int64"
      ]
     },
     "metadata": {},
     "execution_count": 14
    }
   ],
   "source": [
    "df = pd.read_csv(\"02-22-2018.csv\")\n",
    "dataset6 = df.groupby('Label').apply(pd.DataFrame.sample, frac=0.1).reset_index(level='Label', drop=True)\n",
    "dataset6[\"Label\"].value_counts()"
   ]
  },
  {
   "cell_type": "code",
   "execution_count": 15,
   "metadata": {},
   "outputs": [
    {
     "output_type": "execute_result",
     "data": {
      "text/plain": [
       "Benign              104801\n",
       "Brute Force -Web        36\n",
       "Brute Force -XSS        15\n",
       "SQL Injection            5\n",
       "Name: Label, dtype: int64"
      ]
     },
     "metadata": {},
     "execution_count": 15
    }
   ],
   "source": [
    "df = pd.read_csv(\"02-23-2018.csv\")\n",
    "dataset7 = df.groupby('Label').apply(pd.DataFrame.sample, frac=0.1).reset_index(level='Label', drop=True)\n",
    "dataset7[\"Label\"].value_counts()"
   ]
  },
  {
   "cell_type": "code",
   "execution_count": 17,
   "metadata": {},
   "outputs": [
    {
     "output_type": "stream",
     "name": "stderr",
     "text": [
      "C:\\Users\\gmrdk\\anaconda3\\envs\\ml-ids\\lib\\site-packages\\IPython\\core\\interactiveshell.py:3166: DtypeWarning: Columns (0,1,3,4,5,6,7,8,9,10,11,12,13,14,15,16,17,18,19,20,21,22,23,24,25,26,27,28,29,30,31,32,33,34,35,36,37,38,39,40,41,42,43,44,45,46,47,48,49,50,51,52,53,54,55,56,57,58,59,60,61,62,63,64,65,66,67,68,69,70,71,72,73,74,75,76,77,78) have mixed types.Specify dtype option on import or set low_memory=False.\n  interactivity=interactivity, compiler=compiler, result=result)\n"
     ]
    },
    {
     "output_type": "execute_result",
     "data": {
      "text/plain": [
       "array(['Benign', 'Infilteration', 'Label'], dtype=object)"
      ]
     },
     "metadata": {},
     "execution_count": 17
    }
   ],
   "source": [
    "df = pd.read_csv(\"02-28-2018.csv\")\n",
    "dataset8 = df.groupby('Label').apply(pd.DataFrame.sample, frac=0.1).reset_index(level='Label', drop=True)\n",
    "dataset8[\"Label\"].value_counts()"
   ]
  },
  {
   "cell_type": "code",
   "execution_count": 19,
   "metadata": {},
   "outputs": [],
   "source": [
    "dataset8 = dataset8[dataset8.Label != 'Label']"
   ]
  },
  {
   "cell_type": "code",
   "execution_count": 21,
   "metadata": {},
   "outputs": [
    {
     "output_type": "stream",
     "name": "stderr",
     "text": [
      "C:\\Users\\gmrdk\\anaconda3\\envs\\ml-ids\\lib\\site-packages\\IPython\\core\\interactiveshell.py:3166: DtypeWarning: Columns (0,1,3,4,5,6,7,8,9,10,11,12,13,14,15,16,17,18,19,20,21,22,23,24,25,26,27,28,29,30,31,32,33,34,35,36,37,38,39,40,41,42,43,44,45,46,47,48,49,50,51,52,53,54,55,56,57,58,59,60,61,62,63,64,65,66,67,68,69,70,71,72,73,74,75,76,77,78) have mixed types.Specify dtype option on import or set low_memory=False.\n  interactivity=interactivity, compiler=compiler, result=result)\n"
     ]
    },
    {
     "output_type": "execute_result",
     "data": {
      "text/plain": [
       "Benign           23804\n",
       "Infilteration     9306\n",
       "Label                2\n",
       "Name: Label, dtype: int64"
      ]
     },
     "metadata": {},
     "execution_count": 21
    }
   ],
   "source": [
    "df = pd.read_csv(\"03-01-2018.csv\")\n",
    "dataset9 = df.groupby('Label').apply(pd.DataFrame.sample, frac=0.1).reset_index(level='Label', drop=True)\n",
    "dataset9[\"Label\"].value_counts()"
   ]
  },
  {
   "cell_type": "code",
   "execution_count": 22,
   "metadata": {},
   "outputs": [],
   "source": [
    "dataset9 = dataset9[dataset9.Label != 'Label']"
   ]
  },
  {
   "cell_type": "code",
   "execution_count": 25,
   "metadata": {},
   "outputs": [],
   "source": [
    "datamerge = pd.concat([dataset0,dataset1,dataset2,dataset3,dataset4,dataset5,dataset6,dataset7,dataset8,dataset9], ignore_index=True)"
   ]
  },
  {
   "cell_type": "code",
   "execution_count": 26,
   "metadata": {},
   "outputs": [
    {
     "output_type": "execute_result",
     "data": {
      "text/plain": [
       "Benign                      1348471\n",
       "DDOS attack-HOIC              68601\n",
       "DDoS attacks-LOIC-HTTP        57619\n",
       "DoS attacks-Hulk              46191\n",
       "Bot                           28619\n",
       "FTP-BruteForce                19336\n",
       "SSH-Bruteforce                18759\n",
       "Infilteration                 16193\n",
       "DoS attacks-SlowHTTPTest      13989\n",
       "DoS attacks-GoldenEye          4151\n",
       "DoS attacks-Slowloris          1099\n",
       "DDOS attack-LOIC-UDP            173\n",
       "Brute Force -Web                 61\n",
       "Brute Force -XSS                 23\n",
       "SQL Injection                     8\n",
       "Name: Label, dtype: int64"
      ]
     },
     "metadata": {},
     "execution_count": 26
    }
   ],
   "source": [
    "datamerge[\"Label\"].value_counts()"
   ]
  },
  {
   "cell_type": "code",
   "execution_count": 29,
   "metadata": {},
   "outputs": [],
   "source": [
    "datamerge.to_csv(\"multilabel_dataset.csv\")"
   ]
  },
  {
   "cell_type": "code",
   "execution_count": null,
   "metadata": {},
   "outputs": [],
   "source": []
  }
 ]
}