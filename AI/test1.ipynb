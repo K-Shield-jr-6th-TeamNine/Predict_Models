{
 "cells": [
  {
   "cell_type": "code",
   "execution_count": 50,
   "metadata": {},
   "outputs": [],
   "source": [
    "from keras.models import load_model\n",
    "from keras.models import Model\n",
    "import pandas as pd"
   ]
  },
  {
   "cell_type": "code",
   "execution_count": 51,
   "metadata": {},
   "outputs": [],
   "source": [
    "data2 = pd.read_csv('./archive/Exam1+1_nolabel.csv')"
   ]
  },
  {
   "cell_type": "code",
   "execution_count": 52,
   "metadata": {},
   "outputs": [],
   "source": [
    "data2.drop('Timestamp', axis=1, inplace=True)"
   ]
  },
  {
   "cell_type": "code",
   "execution_count": 53,
   "metadata": {},
   "outputs": [
    {
     "data": {
      "text/plain": [
       "Index(['Dst Port', 'Protocol', 'Flow Duration', 'Tot Fwd Pkts', 'Tot Bwd Pkts',\n",
       "       'TotLen Fwd Pkts', 'TotLen Bwd Pkts', 'Fwd Pkt Len Max',\n",
       "       'Fwd Pkt Len Min', 'Fwd Pkt Len Mean', 'Fwd Pkt Len Std',\n",
       "       'Bwd Pkt Len Max', 'Bwd Pkt Len Min', 'Bwd Pkt Len Mean',\n",
       "       'Bwd Pkt Len Std', 'Flow Byts/s', 'Flow Pkts/s', 'Flow IAT Mean',\n",
       "       'Flow IAT Std', 'Flow IAT Max', 'Flow IAT Min', 'Fwd IAT Tot',\n",
       "       'Fwd IAT Mean', 'Fwd IAT Std', 'Fwd IAT Max', 'Fwd IAT Min',\n",
       "       'Bwd IAT Tot', 'Bwd IAT Mean', 'Bwd IAT Std', 'Bwd IAT Max',\n",
       "       'Bwd IAT Min', 'Fwd PSH Flags', 'Bwd PSH Flags', 'Fwd URG Flags',\n",
       "       'Bwd URG Flags', 'Fwd Header Len', 'Bwd Header Len', 'Fwd Pkts/s',\n",
       "       'Bwd Pkts/s', 'Pkt Len Min', 'Pkt Len Max', 'Pkt Len Mean',\n",
       "       'Pkt Len Std', 'Pkt Len Var', 'FIN Flag Cnt', 'SYN Flag Cnt',\n",
       "       'RST Flag Cnt', 'PSH Flag Cnt', 'ACK Flag Cnt', 'URG Flag Cnt',\n",
       "       'CWE Flag Count', 'ECE Flag Cnt', 'Down/Up Ratio', 'Pkt Size Avg',\n",
       "       'Fwd Seg Size Avg', 'Bwd Seg Size Avg', 'Fwd Byts/b Avg',\n",
       "       'Fwd Pkts/b Avg', 'Fwd Blk Rate Avg', 'Bwd Byts/b Avg',\n",
       "       'Bwd Pkts/b Avg', 'Bwd Blk Rate Avg', 'Subflow Fwd Pkts',\n",
       "       'Subflow Fwd Byts', 'Subflow Bwd Pkts', 'Subflow Bwd Byts',\n",
       "       'Init Fwd Win Byts', 'Init Bwd Win Byts', 'Fwd Act Data Pkts',\n",
       "       'Fwd Seg Size Min', 'Active Mean', 'Active Std', 'Active Max',\n",
       "       'Active Min', 'Idle Mean', 'Idle Std', 'Idle Max', 'Idle Min'],\n",
       "      dtype='object')"
      ]
     },
     "execution_count": 53,
     "metadata": {},
     "output_type": "execute_result"
    }
   ],
   "source": [
    "data2.columns"
   ]
  },
  {
   "cell_type": "code",
   "execution_count": 54,
   "metadata": {},
   "outputs": [],
   "source": [
    "from sklearn.model_selection import train_test_split\n",
    "from sklearn.preprocessing import OneHotEncoder, StandardScaler, LabelEncoder\n",
    "import numpy as np\n",
    "#drop na values and reset index\n",
    "data2_clean = data2.dropna().reset_index()\n",
    "data2_clean\n",
    "\n",
    "data2_np = data2_clean.to_numpy(dtype=\"float64\")\n",
    "\n",
    "data2_np = data2_np[~np.isinf(data2_np).any(axis=1)]\n",
    "\n",
    "X = data2_np[:, 0:78]\n",
    "\n",
    "scaler = StandardScaler()\n",
    "X_scaled = scaler.fit_transform(X)"
   ]
  },
  {
   "cell_type": "code",
   "execution_count": 55,
   "metadata": {},
   "outputs": [],
   "source": [
    "model = load_model(\"3NN.h5\")\n",
    "predict = model.predict(X_scaled)\n",
    "a = []\n",
    "benign = 0\n",
    "attack = 0"
   ]
  },
  {
   "cell_type": "code",
   "execution_count": 56,
   "metadata": {},
   "outputs": [],
   "source": [
    "for prediction in predict:\n",
    "    if prediction[0] < 0.7:\n",
    "        a.append(0)\n",
    "        benign += 1\n",
    "    else:\n",
    "        a.append(1)\n",
    "        attack += 1"
   ]
  },
  {
   "cell_type": "code",
   "execution_count": 57,
   "metadata": {},
   "outputs": [
    {
     "name": "stdout",
     "output_type": "stream",
     "text": [
      "        Dst Port  Protocol  Flow Duration  Tot Fwd Pkts  Tot Bwd Pkts  \\\n",
      "0             80         6       31860246            36             0   \n",
      "1             21         6         246654            12             0   \n",
      "2             22         6            115             4             0   \n",
      "3             22         6        3021668             6             0   \n",
      "4             21         6         110885            16             0   \n",
      "...          ...       ...            ...           ...           ...   \n",
      "313352        80         6          22554             4             0   \n",
      "313353        22         6        3003991             6             0   \n",
      "313354        22         6         168569            10             0   \n",
      "313355        21         6         126213            12             0   \n",
      "313356        21         6          96619            12             0   \n",
      "\n",
      "        TotLen Fwd Pkts  TotLen Bwd Pkts  Fwd Pkt Len Max  Fwd Pkt Len Min  \\\n",
      "0                  2862                0              301               66   \n",
      "1                   768                0               66               60   \n",
      "2                   240                0               60               60   \n",
      "3                   444                0               74               74   \n",
      "4                  1020                0               66               60   \n",
      "...                 ...              ...              ...              ...   \n",
      "313352              428                0              242               60   \n",
      "313353              444                0               74               74   \n",
      "313354              730                0               81               66   \n",
      "313355              768                0               66               60   \n",
      "313356              768                0               66               60   \n",
      "\n",
      "        Fwd Pkt Len Mean  ...  Fwd Seg Size Min  Active Mean    Active Std  \\\n",
      "0                  79.50  ...                20         0.00       0.00000   \n",
      "1                  64.00  ...                20     82455.50   82306.50000   \n",
      "2                  60.00  ...                20         0.00       0.00000   \n",
      "3                  74.00  ...                20    499902.50  499816.50000   \n",
      "4                  63.75  ...                20     22319.25   16296.59756   \n",
      "...                  ...  ...               ...          ...           ...   \n",
      "313352            107.00  ...                20         0.00       0.00000   \n",
      "313353             74.00  ...                20    503154.50  503007.50000   \n",
      "313354             73.00  ...                20     41188.00   41064.00000   \n",
      "313355             64.00  ...                20     33707.00   33614.00000   \n",
      "313356             64.00  ...                20     27860.00   27625.00000   \n",
      "\n",
      "        Active Max  Active Min  Idle Mean      Idle Std  Idle Max  Idle Min  \\\n",
      "0                0           0        0.0       0.00000         0         0   \n",
      "1           164762         149   122990.0   41708.00000    164698     81282   \n",
      "2                0           0        0.0       0.00000         0         0   \n",
      "3           999719          86  1510525.5  510776.50000   2021302    999749   \n",
      "4            45108         173    27540.0   10686.96503     44936     16861   \n",
      "...            ...         ...        ...           ...       ...       ...   \n",
      "313352           0           0    10180.0     110.00000     10290     10070   \n",
      "313353     1006162         147  1501685.0  495567.00000   1997252   1006118   \n",
      "313354       82252         124    84127.5    1997.50000     86125     82130   \n",
      "313355       67321          93    61619.5    5687.50000     67307     55932   \n",
      "313356       55485         235    47125.5    8130.50000     55256     38995   \n",
      "\n",
      "        Label  \n",
      "0           1  \n",
      "1           1  \n",
      "2           1  \n",
      "3           1  \n",
      "4           1  \n",
      "...       ...  \n",
      "313352      1  \n",
      "313353      1  \n",
      "313354      1  \n",
      "313355      1  \n",
      "313356      1  \n",
      "\n",
      "[313357 rows x 79 columns]\n"
     ]
    }
   ],
   "source": [
    "from pandas import DataFrame\n",
    "pred = {'Label': a}\n",
    "pre = DataFrame(pred)\n",
    "data2['Label'] = pre['Label']\n",
    "\n",
    "print(data2)\n",
    "\n",
    "data2.to_csv(\"3NN_testing.csv\", mode='w')"
   ]
  },
  {
   "cell_type": "code",
   "execution_count": 58,
   "metadata": {},
   "outputs": [
    {
     "data": {
      "text/plain": [
       "1    309119\n",
       "0      4238\n",
       "Name: Label, dtype: int64"
      ]
     },
     "execution_count": 58,
     "metadata": {},
     "output_type": "execute_result"
    }
   ],
   "source": [
    "data2[\"Label\"].value_counts()"
   ]
  },
  {
   "cell_type": "code",
   "execution_count": 59,
   "metadata": {},
   "outputs": [
    {
     "name": "stdout",
     "output_type": "stream",
     "text": [
      "attack: 309119 benign: 4238\n"
     ]
    }
   ],
   "source": [
    "print('attack: {} benign: {}'.format(attack,benign))"
   ]
  },
  {
   "cell_type": "code",
   "execution_count": null,
   "metadata": {},
   "outputs": [],
   "source": []
  }
 ],
 "metadata": {
  "kernelspec": {
   "display_name": "Python 3",
   "language": "python",
   "name": "python3"
  },
  "language_info": {
   "codemirror_mode": {
    "name": "ipython",
    "version": 3
   },
   "file_extension": ".py",
   "mimetype": "text/x-python",
   "name": "python",
   "nbconvert_exporter": "python",
   "pygments_lexer": "ipython3",
   "version": "3.8.5"
  }
 },
 "nbformat": 4,
 "nbformat_minor": 4
}
