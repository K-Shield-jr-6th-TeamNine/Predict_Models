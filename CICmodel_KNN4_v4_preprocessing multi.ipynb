{
 "metadata": {
  "language_info": {
   "codemirror_mode": {
    "name": "ipython",
    "version": 3
   },
   "file_extension": ".py",
   "mimetype": "text/x-python",
   "name": "python",
   "nbconvert_exporter": "python",
   "pygments_lexer": "ipython3",
   "version": "3.7.10"
  },
  "orig_nbformat": 2,
  "kernelspec": {
   "name": "python3710jvsc74a57bd0620e002d894610d192a88151d250056391ddc05ad3c4fb7ca34afd5d55a43b94",
   "display_name": "Python 3.7.10 64-bit ('ml-ids': conda)"
  }
 },
 "nbformat": 4,
 "nbformat_minor": 2,
 "cells": [
  {
   "cell_type": "code",
   "execution_count": 1,
   "metadata": {},
   "outputs": [],
   "source": [
    "import numpy as np\n",
    "import pandas as pd\n",
    "from sklearn.model_selection import train_test_split\n",
    "from sklearn.preprocessing import MinMaxScaler, StandardScaler\n",
    "from sklearn.metrics import classification_report\n",
    "from sklearn.svm import OneClassSVM"
   ]
  },
  {
   "cell_type": "code",
   "execution_count": 2,
   "metadata": {},
   "outputs": [
    {
     "output_type": "execute_result",
     "data": {
      "text/plain": [
       "   Unnamed: 0  Dst Port  Protocol            Timestamp  Flow Duration  \\\n",
       "0           0        53        17  02/03/2018 09:27:39            395   \n",
       "1           1       443         6  02/03/2018 01:47:54        5835709   \n",
       "2           2      3389         6  02/03/2018 03:43:39        3888916   \n",
       "3           3        80         6  02/03/2018 05:29:44            853   \n",
       "4           4     50966         6  02/03/2018 10:11:07             57   \n",
       "\n",
       "   Tot Fwd Pkts  Tot Bwd Pkts  TotLen Fwd Pkts  TotLen Bwd Pkts  \\\n",
       "0             1             1             31.0             47.0   \n",
       "1             8             4            598.0           3427.0   \n",
       "2            14             8           1442.0           1731.0   \n",
       "3             3             4            161.0            488.0   \n",
       "4             2             0              0.0              0.0   \n",
       "\n",
       "   Fwd Pkt Len Max  ...  Fwd Seg Size Min  Active Mean  Active Std  \\\n",
       "0             31.0  ...                 8          0.0         0.0   \n",
       "1            342.0  ...                20     350083.0         0.0   \n",
       "2            725.0  ...                20          0.0         0.0   \n",
       "3            161.0  ...                20          0.0         0.0   \n",
       "4              0.0  ...                20          0.0         0.0   \n",
       "\n",
       "   Active Max  Active Min  Idle Mean  Idle Std   Idle Max   Idle Min   Label  \n",
       "0         0.0         0.0        0.0       0.0        0.0        0.0  Benign  \n",
       "1    350083.0    350083.0  5485590.0       0.0  5485590.0  5485590.0  Benign  \n",
       "2         0.0         0.0        0.0       0.0        0.0        0.0  Benign  \n",
       "3         0.0         0.0        0.0       0.0        0.0        0.0  Benign  \n",
       "4         0.0         0.0        0.0       0.0        0.0        0.0  Benign  \n",
       "\n",
       "[5 rows x 81 columns]"
      ],
      "text/html": "<div>\n<style scoped>\n    .dataframe tbody tr th:only-of-type {\n        vertical-align: middle;\n    }\n\n    .dataframe tbody tr th {\n        vertical-align: top;\n    }\n\n    .dataframe thead th {\n        text-align: right;\n    }\n</style>\n<table border=\"1\" class=\"dataframe\">\n  <thead>\n    <tr style=\"text-align: right;\">\n      <th></th>\n      <th>Unnamed: 0</th>\n      <th>Dst Port</th>\n      <th>Protocol</th>\n      <th>Timestamp</th>\n      <th>Flow Duration</th>\n      <th>Tot Fwd Pkts</th>\n      <th>Tot Bwd Pkts</th>\n      <th>TotLen Fwd Pkts</th>\n      <th>TotLen Bwd Pkts</th>\n      <th>Fwd Pkt Len Max</th>\n      <th>...</th>\n      <th>Fwd Seg Size Min</th>\n      <th>Active Mean</th>\n      <th>Active Std</th>\n      <th>Active Max</th>\n      <th>Active Min</th>\n      <th>Idle Mean</th>\n      <th>Idle Std</th>\n      <th>Idle Max</th>\n      <th>Idle Min</th>\n      <th>Label</th>\n    </tr>\n  </thead>\n  <tbody>\n    <tr>\n      <th>0</th>\n      <td>0</td>\n      <td>53</td>\n      <td>17</td>\n      <td>02/03/2018 09:27:39</td>\n      <td>395</td>\n      <td>1</td>\n      <td>1</td>\n      <td>31.0</td>\n      <td>47.0</td>\n      <td>31.0</td>\n      <td>...</td>\n      <td>8</td>\n      <td>0.0</td>\n      <td>0.0</td>\n      <td>0.0</td>\n      <td>0.0</td>\n      <td>0.0</td>\n      <td>0.0</td>\n      <td>0.0</td>\n      <td>0.0</td>\n      <td>Benign</td>\n    </tr>\n    <tr>\n      <th>1</th>\n      <td>1</td>\n      <td>443</td>\n      <td>6</td>\n      <td>02/03/2018 01:47:54</td>\n      <td>5835709</td>\n      <td>8</td>\n      <td>4</td>\n      <td>598.0</td>\n      <td>3427.0</td>\n      <td>342.0</td>\n      <td>...</td>\n      <td>20</td>\n      <td>350083.0</td>\n      <td>0.0</td>\n      <td>350083.0</td>\n      <td>350083.0</td>\n      <td>5485590.0</td>\n      <td>0.0</td>\n      <td>5485590.0</td>\n      <td>5485590.0</td>\n      <td>Benign</td>\n    </tr>\n    <tr>\n      <th>2</th>\n      <td>2</td>\n      <td>3389</td>\n      <td>6</td>\n      <td>02/03/2018 03:43:39</td>\n      <td>3888916</td>\n      <td>14</td>\n      <td>8</td>\n      <td>1442.0</td>\n      <td>1731.0</td>\n      <td>725.0</td>\n      <td>...</td>\n      <td>20</td>\n      <td>0.0</td>\n      <td>0.0</td>\n      <td>0.0</td>\n      <td>0.0</td>\n      <td>0.0</td>\n      <td>0.0</td>\n      <td>0.0</td>\n      <td>0.0</td>\n      <td>Benign</td>\n    </tr>\n    <tr>\n      <th>3</th>\n      <td>3</td>\n      <td>80</td>\n      <td>6</td>\n      <td>02/03/2018 05:29:44</td>\n      <td>853</td>\n      <td>3</td>\n      <td>4</td>\n      <td>161.0</td>\n      <td>488.0</td>\n      <td>161.0</td>\n      <td>...</td>\n      <td>20</td>\n      <td>0.0</td>\n      <td>0.0</td>\n      <td>0.0</td>\n      <td>0.0</td>\n      <td>0.0</td>\n      <td>0.0</td>\n      <td>0.0</td>\n      <td>0.0</td>\n      <td>Benign</td>\n    </tr>\n    <tr>\n      <th>4</th>\n      <td>4</td>\n      <td>50966</td>\n      <td>6</td>\n      <td>02/03/2018 10:11:07</td>\n      <td>57</td>\n      <td>2</td>\n      <td>0</td>\n      <td>0.0</td>\n      <td>0.0</td>\n      <td>0.0</td>\n      <td>...</td>\n      <td>20</td>\n      <td>0.0</td>\n      <td>0.0</td>\n      <td>0.0</td>\n      <td>0.0</td>\n      <td>0.0</td>\n      <td>0.0</td>\n      <td>0.0</td>\n      <td>0.0</td>\n      <td>Benign</td>\n    </tr>\n  </tbody>\n</table>\n<p>5 rows × 81 columns</p>\n</div>"
     },
     "metadata": {},
     "execution_count": 2
    }
   ],
   "source": [
    "class dataset:\n",
    "    pass\n",
    "\n",
    "df = pd.read_csv(\"multilabel_dataset.csv\")\n",
    "df_predicted = pd.read_csv(\"total_noanswer.csv\")\n",
    "df.head(5)"
   ]
  },
  {
   "cell_type": "code",
   "execution_count": 3,
   "metadata": {},
   "outputs": [],
   "source": [
    "df = df.drop(columns='Unnamed: 0')"
   ]
  },
  {
   "cell_type": "code",
   "execution_count": 5,
   "metadata": {},
   "outputs": [
    {
     "output_type": "execute_result",
     "data": {
      "text/plain": [
       "Index(['Dst Port', 'Protocol', 'Timestamp', 'Flow Duration', 'Tot Fwd Pkts',\n",
       "       'Tot Bwd Pkts', 'TotLen Fwd Pkts', 'TotLen Bwd Pkts', 'Fwd Pkt Len Max',\n",
       "       'Fwd Pkt Len Min', 'Fwd Pkt Len Mean', 'Fwd Pkt Len Std',\n",
       "       'Bwd Pkt Len Max', 'Bwd Pkt Len Min', 'Bwd Pkt Len Mean',\n",
       "       'Bwd Pkt Len Std', 'Flow Byts/s', 'Flow Pkts/s', 'Flow IAT Mean',\n",
       "       'Flow IAT Std', 'Flow IAT Max', 'Flow IAT Min', 'Fwd IAT Tot',\n",
       "       'Fwd IAT Mean', 'Fwd IAT Std', 'Fwd IAT Max', 'Fwd IAT Min',\n",
       "       'Bwd IAT Tot', 'Bwd IAT Mean', 'Bwd IAT Std', 'Bwd IAT Max',\n",
       "       'Bwd IAT Min', 'Fwd PSH Flags', 'Bwd PSH Flags', 'Fwd URG Flags',\n",
       "       'Bwd URG Flags', 'Fwd Header Len', 'Bwd Header Len', 'Fwd Pkts/s',\n",
       "       'Bwd Pkts/s', 'Pkt Len Min', 'Pkt Len Max', 'Pkt Len Mean',\n",
       "       'Pkt Len Std', 'Pkt Len Var', 'FIN Flag Cnt', 'SYN Flag Cnt',\n",
       "       'RST Flag Cnt', 'PSH Flag Cnt', 'ACK Flag Cnt', 'URG Flag Cnt',\n",
       "       'CWE Flag Count', 'ECE Flag Cnt', 'Down/Up Ratio', 'Pkt Size Avg',\n",
       "       'Fwd Seg Size Avg', 'Bwd Seg Size Avg', 'Fwd Byts/b Avg',\n",
       "       'Fwd Pkts/b Avg', 'Fwd Blk Rate Avg', 'Bwd Byts/b Avg',\n",
       "       'Bwd Pkts/b Avg', 'Bwd Blk Rate Avg', 'Subflow Fwd Pkts',\n",
       "       'Subflow Fwd Byts', 'Subflow Bwd Pkts', 'Subflow Bwd Byts',\n",
       "       'Init Fwd Win Byts', 'Init Bwd Win Byts', 'Fwd Act Data Pkts',\n",
       "       'Fwd Seg Size Min', 'Active Mean', 'Active Std', 'Active Max',\n",
       "       'Active Min', 'Idle Mean', 'Idle Std', 'Idle Max', 'Idle Min', 'Label'],\n",
       "      dtype='object')"
      ]
     },
     "metadata": {},
     "execution_count": 5
    }
   ],
   "source": [
    "df.columns"
   ]
  },
  {
   "cell_type": "code",
   "execution_count": 6,
   "metadata": {},
   "outputs": [
    {
     "output_type": "stream",
     "name": "stdout",
     "text": [
      "<class 'pandas.core.frame.DataFrame'>\nRangeIndex: 1623293 entries, 0 to 1623292\nData columns (total 80 columns):\n #   Column             Non-Null Count    Dtype  \n---  ------             --------------    -----  \n 0   Dst Port           1623293 non-null  int64  \n 1   Protocol           1623293 non-null  int64  \n 2   Timestamp          1623293 non-null  object \n 3   Flow Duration      1623293 non-null  int64  \n 4   Tot Fwd Pkts       1623293 non-null  int64  \n 5   Tot Bwd Pkts       1623293 non-null  int64  \n 6   TotLen Fwd Pkts    1623293 non-null  float64\n 7   TotLen Bwd Pkts    1623293 non-null  float64\n 8   Fwd Pkt Len Max    1623293 non-null  float64\n 9   Fwd Pkt Len Min    1623293 non-null  float64\n 10  Fwd Pkt Len Mean   1623293 non-null  float64\n 11  Fwd Pkt Len Std    1623293 non-null  float64\n 12  Bwd Pkt Len Max    1623293 non-null  float64\n 13  Bwd Pkt Len Min    1623293 non-null  float64\n 14  Bwd Pkt Len Mean   1623293 non-null  float64\n 15  Bwd Pkt Len Std    1623293 non-null  float64\n 16  Flow Byts/s        1617335 non-null  float64\n 17  Flow Pkts/s        1623293 non-null  float64\n 18  Flow IAT Mean      1623293 non-null  float64\n 19  Flow IAT Std       1623293 non-null  float64\n 20  Flow IAT Max       1623293 non-null  float64\n 21  Flow IAT Min       1623293 non-null  float64\n 22  Fwd IAT Tot        1623293 non-null  float64\n 23  Fwd IAT Mean       1623293 non-null  float64\n 24  Fwd IAT Std        1623293 non-null  float64\n 25  Fwd IAT Max        1623293 non-null  float64\n 26  Fwd IAT Min        1623293 non-null  float64\n 27  Bwd IAT Tot        1623293 non-null  float64\n 28  Bwd IAT Mean       1623293 non-null  float64\n 29  Bwd IAT Std        1623293 non-null  float64\n 30  Bwd IAT Max        1623293 non-null  float64\n 31  Bwd IAT Min        1623293 non-null  float64\n 32  Fwd PSH Flags      1623293 non-null  int64  \n 33  Bwd PSH Flags      1623293 non-null  int64  \n 34  Fwd URG Flags      1623293 non-null  int64  \n 35  Bwd URG Flags      1623293 non-null  int64  \n 36  Fwd Header Len     1623293 non-null  int64  \n 37  Bwd Header Len     1623293 non-null  int64  \n 38  Fwd Pkts/s         1623293 non-null  float64\n 39  Bwd Pkts/s         1623293 non-null  float64\n 40  Pkt Len Min        1623293 non-null  float64\n 41  Pkt Len Max        1623293 non-null  float64\n 42  Pkt Len Mean       1623293 non-null  float64\n 43  Pkt Len Std        1623293 non-null  float64\n 44  Pkt Len Var        1623293 non-null  float64\n 45  FIN Flag Cnt       1623293 non-null  int64  \n 46  SYN Flag Cnt       1623293 non-null  int64  \n 47  RST Flag Cnt       1623293 non-null  int64  \n 48  PSH Flag Cnt       1623293 non-null  int64  \n 49  ACK Flag Cnt       1623293 non-null  int64  \n 50  URG Flag Cnt       1623293 non-null  int64  \n 51  CWE Flag Count     1623293 non-null  int64  \n 52  ECE Flag Cnt       1623293 non-null  int64  \n 53  Down/Up Ratio      1623293 non-null  float64\n 54  Pkt Size Avg       1623293 non-null  float64\n 55  Fwd Seg Size Avg   1623293 non-null  float64\n 56  Bwd Seg Size Avg   1623293 non-null  float64\n 57  Fwd Byts/b Avg     1623293 non-null  int64  \n 58  Fwd Pkts/b Avg     1623293 non-null  int64  \n 59  Fwd Blk Rate Avg   1623293 non-null  int64  \n 60  Bwd Byts/b Avg     1623293 non-null  int64  \n 61  Bwd Pkts/b Avg     1623293 non-null  int64  \n 62  Bwd Blk Rate Avg   1623293 non-null  int64  \n 63  Subflow Fwd Pkts   1623293 non-null  int64  \n 64  Subflow Fwd Byts   1623293 non-null  int64  \n 65  Subflow Bwd Pkts   1623293 non-null  int64  \n 66  Subflow Bwd Byts   1623293 non-null  int64  \n 67  Init Fwd Win Byts  1623293 non-null  int64  \n 68  Init Bwd Win Byts  1623293 non-null  int64  \n 69  Fwd Act Data Pkts  1623293 non-null  int64  \n 70  Fwd Seg Size Min   1623293 non-null  int64  \n 71  Active Mean        1623293 non-null  float64\n 72  Active Std         1623293 non-null  float64\n 73  Active Max         1623293 non-null  float64\n 74  Active Min         1623293 non-null  float64\n 75  Idle Mean          1623293 non-null  float64\n 76  Idle Std           1623293 non-null  float64\n 77  Idle Max           1623293 non-null  float64\n 78  Idle Min           1623293 non-null  float64\n 79  Label              1623293 non-null  object \ndtypes: float64(45), int64(33), object(2)\nmemory usage: 990.8+ MB\n"
     ]
    }
   ],
   "source": [
    "df.info()"
   ]
  },
  {
   "cell_type": "code",
   "execution_count": 7,
   "metadata": {},
   "outputs": [
    {
     "output_type": "execute_result",
     "data": {
      "text/plain": [
       "(1623293, 80)"
      ]
     },
     "metadata": {},
     "execution_count": 7
    }
   ],
   "source": [
    "df.shape"
   ]
  },
  {
   "cell_type": "code",
   "execution_count": 9,
   "metadata": {},
   "outputs": [
    {
     "output_type": "execute_result",
     "data": {
      "text/plain": [
       "           Dst Port      Protocol  Flow Duration  Tot Fwd Pkts  Tot Bwd Pkts  \\\n",
       "count  1.623293e+06  1.623293e+06   1.623293e+06  1.623293e+06  1.623293e+06   \n",
       "mean   9.185777e+03  8.753311e+00   1.218434e+07  2.435085e+01  6.184580e+00   \n",
       "std    1.894261e+04  4.919311e+00   3.088014e+07  1.590507e+03  1.508257e+02   \n",
       "min    0.000000e+00  0.000000e+00   0.000000e+00  1.000000e+00  0.000000e+00   \n",
       "25%    5.300000e+01  6.000000e+00   4.900000e+02  1.000000e+00  0.000000e+00   \n",
       "50%    8.000000e+01  6.000000e+00   2.097300e+04  2.000000e+00  1.000000e+00   \n",
       "75%    3.389000e+03  1.700000e+01   2.990876e+06  5.000000e+00  4.000000e+00   \n",
       "max    6.553400e+04  1.700000e+01   1.200000e+08  3.096290e+05  2.656600e+04   \n",
       "\n",
       "       TotLen Fwd Pkts  TotLen Bwd Pkts  Fwd Pkt Len Max  Fwd Pkt Len Min  \\\n",
       "count     1.623293e+06     1.623293e+06     1.623293e+06     1.623293e+06   \n",
       "mean      9.848913e+02     4.540388e+03     2.003709e+02     1.108099e+01   \n",
       "std       5.140297e+04     2.174271e+05     3.025947e+02     2.448549e+01   \n",
       "min       0.000000e+00     0.000000e+00     0.000000e+00     0.000000e+00   \n",
       "25%       0.000000e+00     0.000000e+00     0.000000e+00     0.000000e+00   \n",
       "50%       4.300000e+01     1.010000e+02     4.000000e+01     0.000000e+00   \n",
       "75%       4.550000e+02     5.820000e+02     3.020000e+02     2.900000e+01   \n",
       "max       9.908128e+06     3.867802e+07     4.152800e+04     1.460000e+03   \n",
       "\n",
       "       Fwd Pkt Len Mean  ...  Fwd Act Data Pkts  Fwd Seg Size Min  \\\n",
       "count      1.623293e+06  ...       1.623293e+06      1.623293e+06   \n",
       "mean       5.028538e+01  ...       2.073935e+01      1.799534e+01   \n",
       "std        6.086769e+01  ...       1.589535e+03      7.693534e+00   \n",
       "min        0.000000e+00  ...       0.000000e+00      0.000000e+00   \n",
       "25%        0.000000e+00  ...       0.000000e+00      8.000000e+00   \n",
       "50%        3.600000e+01  ...       0.000000e+00      2.000000e+01   \n",
       "75%        6.740000e+01  ...       1.000000e+00      2.000000e+01   \n",
       "max        1.203754e+04  ...       3.096280e+05      4.400000e+01   \n",
       "\n",
       "        Active Mean    Active Std    Active Max    Active Min     Idle Mean  \\\n",
       "count  1.623293e+06  1.623293e+06  1.623293e+06  1.623293e+06  1.623293e+06   \n",
       "mean   1.731388e+05  8.791442e+04  2.639134e+05  1.147115e+05  4.803805e+06   \n",
       "std    2.489933e+06  1.532713e+06  3.326034e+06  2.085602e+06  1.590636e+07   \n",
       "min    0.000000e+00  0.000000e+00  0.000000e+00  0.000000e+00  0.000000e+00   \n",
       "25%    0.000000e+00  0.000000e+00  0.000000e+00  0.000000e+00  0.000000e+00   \n",
       "50%    0.000000e+00  0.000000e+00  0.000000e+00  0.000000e+00  0.000000e+00   \n",
       "75%    0.000000e+00  0.000000e+00  0.000000e+00  0.000000e+00  0.000000e+00   \n",
       "max    1.113114e+08  7.497829e+07  1.113114e+08  1.113114e+08  1.200000e+08   \n",
       "\n",
       "           Idle Std      Idle Max      Idle Min  \n",
       "count  1.623293e+06  1.623293e+06  1.623293e+06  \n",
       "mean   1.507785e+05  4.932766e+06  4.661911e+06  \n",
       "std    1.660842e+06  1.615778e+07  1.578273e+07  \n",
       "min    0.000000e+00  0.000000e+00  0.000000e+00  \n",
       "25%    0.000000e+00  0.000000e+00  0.000000e+00  \n",
       "50%    0.000000e+00  0.000000e+00  0.000000e+00  \n",
       "75%    0.000000e+00  0.000000e+00  0.000000e+00  \n",
       "max    7.493599e+07  1.200000e+08  1.200000e+08  \n",
       "\n",
       "[8 rows x 78 columns]"
      ],
      "text/html": "<div>\n<style scoped>\n    .dataframe tbody tr th:only-of-type {\n        vertical-align: middle;\n    }\n\n    .dataframe tbody tr th {\n        vertical-align: top;\n    }\n\n    .dataframe thead th {\n        text-align: right;\n    }\n</style>\n<table border=\"1\" class=\"dataframe\">\n  <thead>\n    <tr style=\"text-align: right;\">\n      <th></th>\n      <th>Dst Port</th>\n      <th>Protocol</th>\n      <th>Flow Duration</th>\n      <th>Tot Fwd Pkts</th>\n      <th>Tot Bwd Pkts</th>\n      <th>TotLen Fwd Pkts</th>\n      <th>TotLen Bwd Pkts</th>\n      <th>Fwd Pkt Len Max</th>\n      <th>Fwd Pkt Len Min</th>\n      <th>Fwd Pkt Len Mean</th>\n      <th>...</th>\n      <th>Fwd Act Data Pkts</th>\n      <th>Fwd Seg Size Min</th>\n      <th>Active Mean</th>\n      <th>Active Std</th>\n      <th>Active Max</th>\n      <th>Active Min</th>\n      <th>Idle Mean</th>\n      <th>Idle Std</th>\n      <th>Idle Max</th>\n      <th>Idle Min</th>\n    </tr>\n  </thead>\n  <tbody>\n    <tr>\n      <th>count</th>\n      <td>1.623293e+06</td>\n      <td>1.623293e+06</td>\n      <td>1.623293e+06</td>\n      <td>1.623293e+06</td>\n      <td>1.623293e+06</td>\n      <td>1.623293e+06</td>\n      <td>1.623293e+06</td>\n      <td>1.623293e+06</td>\n      <td>1.623293e+06</td>\n      <td>1.623293e+06</td>\n      <td>...</td>\n      <td>1.623293e+06</td>\n      <td>1.623293e+06</td>\n      <td>1.623293e+06</td>\n      <td>1.623293e+06</td>\n      <td>1.623293e+06</td>\n      <td>1.623293e+06</td>\n      <td>1.623293e+06</td>\n      <td>1.623293e+06</td>\n      <td>1.623293e+06</td>\n      <td>1.623293e+06</td>\n    </tr>\n    <tr>\n      <th>mean</th>\n      <td>9.185777e+03</td>\n      <td>8.753311e+00</td>\n      <td>1.218434e+07</td>\n      <td>2.435085e+01</td>\n      <td>6.184580e+00</td>\n      <td>9.848913e+02</td>\n      <td>4.540388e+03</td>\n      <td>2.003709e+02</td>\n      <td>1.108099e+01</td>\n      <td>5.028538e+01</td>\n      <td>...</td>\n      <td>2.073935e+01</td>\n      <td>1.799534e+01</td>\n      <td>1.731388e+05</td>\n      <td>8.791442e+04</td>\n      <td>2.639134e+05</td>\n      <td>1.147115e+05</td>\n      <td>4.803805e+06</td>\n      <td>1.507785e+05</td>\n      <td>4.932766e+06</td>\n      <td>4.661911e+06</td>\n    </tr>\n    <tr>\n      <th>std</th>\n      <td>1.894261e+04</td>\n      <td>4.919311e+00</td>\n      <td>3.088014e+07</td>\n      <td>1.590507e+03</td>\n      <td>1.508257e+02</td>\n      <td>5.140297e+04</td>\n      <td>2.174271e+05</td>\n      <td>3.025947e+02</td>\n      <td>2.448549e+01</td>\n      <td>6.086769e+01</td>\n      <td>...</td>\n      <td>1.589535e+03</td>\n      <td>7.693534e+00</td>\n      <td>2.489933e+06</td>\n      <td>1.532713e+06</td>\n      <td>3.326034e+06</td>\n      <td>2.085602e+06</td>\n      <td>1.590636e+07</td>\n      <td>1.660842e+06</td>\n      <td>1.615778e+07</td>\n      <td>1.578273e+07</td>\n    </tr>\n    <tr>\n      <th>min</th>\n      <td>0.000000e+00</td>\n      <td>0.000000e+00</td>\n      <td>0.000000e+00</td>\n      <td>1.000000e+00</td>\n      <td>0.000000e+00</td>\n      <td>0.000000e+00</td>\n      <td>0.000000e+00</td>\n      <td>0.000000e+00</td>\n      <td>0.000000e+00</td>\n      <td>0.000000e+00</td>\n      <td>...</td>\n      <td>0.000000e+00</td>\n      <td>0.000000e+00</td>\n      <td>0.000000e+00</td>\n      <td>0.000000e+00</td>\n      <td>0.000000e+00</td>\n      <td>0.000000e+00</td>\n      <td>0.000000e+00</td>\n      <td>0.000000e+00</td>\n      <td>0.000000e+00</td>\n      <td>0.000000e+00</td>\n    </tr>\n    <tr>\n      <th>25%</th>\n      <td>5.300000e+01</td>\n      <td>6.000000e+00</td>\n      <td>4.900000e+02</td>\n      <td>1.000000e+00</td>\n      <td>0.000000e+00</td>\n      <td>0.000000e+00</td>\n      <td>0.000000e+00</td>\n      <td>0.000000e+00</td>\n      <td>0.000000e+00</td>\n      <td>0.000000e+00</td>\n      <td>...</td>\n      <td>0.000000e+00</td>\n      <td>8.000000e+00</td>\n      <td>0.000000e+00</td>\n      <td>0.000000e+00</td>\n      <td>0.000000e+00</td>\n      <td>0.000000e+00</td>\n      <td>0.000000e+00</td>\n      <td>0.000000e+00</td>\n      <td>0.000000e+00</td>\n      <td>0.000000e+00</td>\n    </tr>\n    <tr>\n      <th>50%</th>\n      <td>8.000000e+01</td>\n      <td>6.000000e+00</td>\n      <td>2.097300e+04</td>\n      <td>2.000000e+00</td>\n      <td>1.000000e+00</td>\n      <td>4.300000e+01</td>\n      <td>1.010000e+02</td>\n      <td>4.000000e+01</td>\n      <td>0.000000e+00</td>\n      <td>3.600000e+01</td>\n      <td>...</td>\n      <td>0.000000e+00</td>\n      <td>2.000000e+01</td>\n      <td>0.000000e+00</td>\n      <td>0.000000e+00</td>\n      <td>0.000000e+00</td>\n      <td>0.000000e+00</td>\n      <td>0.000000e+00</td>\n      <td>0.000000e+00</td>\n      <td>0.000000e+00</td>\n      <td>0.000000e+00</td>\n    </tr>\n    <tr>\n      <th>75%</th>\n      <td>3.389000e+03</td>\n      <td>1.700000e+01</td>\n      <td>2.990876e+06</td>\n      <td>5.000000e+00</td>\n      <td>4.000000e+00</td>\n      <td>4.550000e+02</td>\n      <td>5.820000e+02</td>\n      <td>3.020000e+02</td>\n      <td>2.900000e+01</td>\n      <td>6.740000e+01</td>\n      <td>...</td>\n      <td>1.000000e+00</td>\n      <td>2.000000e+01</td>\n      <td>0.000000e+00</td>\n      <td>0.000000e+00</td>\n      <td>0.000000e+00</td>\n      <td>0.000000e+00</td>\n      <td>0.000000e+00</td>\n      <td>0.000000e+00</td>\n      <td>0.000000e+00</td>\n      <td>0.000000e+00</td>\n    </tr>\n    <tr>\n      <th>max</th>\n      <td>6.553400e+04</td>\n      <td>1.700000e+01</td>\n      <td>1.200000e+08</td>\n      <td>3.096290e+05</td>\n      <td>2.656600e+04</td>\n      <td>9.908128e+06</td>\n      <td>3.867802e+07</td>\n      <td>4.152800e+04</td>\n      <td>1.460000e+03</td>\n      <td>1.203754e+04</td>\n      <td>...</td>\n      <td>3.096280e+05</td>\n      <td>4.400000e+01</td>\n      <td>1.113114e+08</td>\n      <td>7.497829e+07</td>\n      <td>1.113114e+08</td>\n      <td>1.113114e+08</td>\n      <td>1.200000e+08</td>\n      <td>7.493599e+07</td>\n      <td>1.200000e+08</td>\n      <td>1.200000e+08</td>\n    </tr>\n  </tbody>\n</table>\n<p>8 rows × 78 columns</p>\n</div>"
     },
     "metadata": {},
     "execution_count": 9
    }
   ],
   "source": [
    "# Find inf, NaN, All 0\n",
    "# inf, NaN : 'Flow Byts/s', 'Flow Pkts/s'\n",
    "# All 0 : 'Bwd PSH Flags','Fwd URG Flags','Bwd URG Flags','CWE Flag Count','Fwd Byts/b Avg','Fwd Pkts/b Avg','Fwd Blk Rate Avg','Bwd Byts/b Avg','Bwd Pkts/b Avg','Bwd Blk Rate Avg'\n",
    "df.describe()\n"
   ]
  },
  {
   "cell_type": "code",
   "execution_count": 10,
   "metadata": {},
   "outputs": [
    {
     "output_type": "execute_result",
     "data": {
      "text/plain": [
       "           dst_port  protocol  flow_duration  tot_fwd_pkts  tot_bwd_pkts  \\\n",
       "count  12501.000000   12501.0   1.250100e+04  12501.000000       12501.0   \n",
       "mean    3715.477802       6.0   2.447975e+07      7.016879           0.0   \n",
       "std    11906.791120       0.0   1.047696e+07     76.907398           0.0   \n",
       "min       80.000000       6.0   0.000000e+00      1.000000           0.0   \n",
       "25%       80.000000       6.0   2.716014e+07      4.000000           0.0   \n",
       "50%       80.000000       6.0   2.919319e+07      5.000000           0.0   \n",
       "75%       80.000000       6.0   3.002376e+07      5.000000           0.0   \n",
       "max    59360.000000       6.0   6.336587e+07   4786.000000           0.0   \n",
       "\n",
       "       totlen_fwd_pkts  totlen_bwd_pkts  fwd_pkt_len_max  fwd_pkt_len_min  \\\n",
       "count     1.250100e+04          12501.0     12501.000000     12501.000000   \n",
       "mean      6.197359e+03              0.0       373.742261        60.501240   \n",
       "std       1.833340e+05              0.0      1692.337233         1.662943   \n",
       "min       6.000000e+01              0.0        60.000000        60.000000   \n",
       "25%       2.460000e+02              0.0        66.000000        60.000000   \n",
       "50%       6.120000e+02              0.0       355.000000        60.000000   \n",
       "75%       7.540000e+02              0.0       481.000000        60.000000   \n",
       "max       8.437957e+06              0.0     65302.000000        74.000000   \n",
       "\n",
       "       fwd_pkt_len_mean  ...  fwd_act_data_pkts  fwd_seg_size_min  \\\n",
       "count      12501.000000  ...        12501.00000           12501.0   \n",
       "mean         119.596010  ...            5.62603              20.0   \n",
       "std          168.204841  ...           76.83863               0.0   \n",
       "min           60.000000  ...            0.00000              20.0   \n",
       "25%           61.500000  ...            3.00000              20.0   \n",
       "50%          117.400000  ...            4.00000              20.0   \n",
       "75%          144.666667  ...            4.00000              20.0   \n",
       "max         5662.657188  ...         4782.00000              20.0   \n",
       "\n",
       "        active_mean    active_std    active_max    active_min     idle_mean  \\\n",
       "count  1.250100e+04  1.250100e+04  1.250100e+04  1.250100e+04  1.250100e+04   \n",
       "mean   4.570678e+04  4.642705e+04  9.995754e+04  1.543567e+03  9.100694e+06   \n",
       "std    5.247163e+05  5.257001e+05  1.107267e+06  4.150912e+04  4.945828e+06   \n",
       "min    0.000000e+00  0.000000e+00  0.000000e+00  0.000000e+00  0.000000e+00   \n",
       "25%    0.000000e+00  0.000000e+00  0.000000e+00  0.000000e+00  7.305678e+06   \n",
       "50%    0.000000e+00  0.000000e+00  0.000000e+00  0.000000e+00  8.150338e+06   \n",
       "75%    0.000000e+00  0.000000e+00  0.000000e+00  0.000000e+00  1.499955e+07   \n",
       "max    1.325843e+07  1.359454e+07  3.150764e+07  2.402712e+06  1.723743e+07   \n",
       "\n",
       "           idle_std      idle_max      idle_min  \n",
       "count  1.250100e+04  1.250100e+04  1.250100e+04  \n",
       "mean   1.034236e+07  2.144696e+07  4.519078e+04  \n",
       "std    4.821658e+06  9.671536e+06  1.904658e+05  \n",
       "min    0.000000e+00  0.000000e+00  0.000000e+00  \n",
       "25%    9.551115e+06  2.177167e+07  9.084000e+03  \n",
       "50%    1.113120e+07  2.372316e+07  1.059900e+04  \n",
       "75%    1.498582e+07  2.998566e+07  1.606100e+04  \n",
       "max    1.722575e+07  3.446318e+07  4.967589e+06  \n",
       "\n",
       "[8 rows x 78 columns]"
      ],
      "text/html": "<div>\n<style scoped>\n    .dataframe tbody tr th:only-of-type {\n        vertical-align: middle;\n    }\n\n    .dataframe tbody tr th {\n        vertical-align: top;\n    }\n\n    .dataframe thead th {\n        text-align: right;\n    }\n</style>\n<table border=\"1\" class=\"dataframe\">\n  <thead>\n    <tr style=\"text-align: right;\">\n      <th></th>\n      <th>dst_port</th>\n      <th>protocol</th>\n      <th>flow_duration</th>\n      <th>tot_fwd_pkts</th>\n      <th>tot_bwd_pkts</th>\n      <th>totlen_fwd_pkts</th>\n      <th>totlen_bwd_pkts</th>\n      <th>fwd_pkt_len_max</th>\n      <th>fwd_pkt_len_min</th>\n      <th>fwd_pkt_len_mean</th>\n      <th>...</th>\n      <th>fwd_act_data_pkts</th>\n      <th>fwd_seg_size_min</th>\n      <th>active_mean</th>\n      <th>active_std</th>\n      <th>active_max</th>\n      <th>active_min</th>\n      <th>idle_mean</th>\n      <th>idle_std</th>\n      <th>idle_max</th>\n      <th>idle_min</th>\n    </tr>\n  </thead>\n  <tbody>\n    <tr>\n      <th>count</th>\n      <td>12501.000000</td>\n      <td>12501.0</td>\n      <td>1.250100e+04</td>\n      <td>12501.000000</td>\n      <td>12501.0</td>\n      <td>1.250100e+04</td>\n      <td>12501.0</td>\n      <td>12501.000000</td>\n      <td>12501.000000</td>\n      <td>12501.000000</td>\n      <td>...</td>\n      <td>12501.00000</td>\n      <td>12501.0</td>\n      <td>1.250100e+04</td>\n      <td>1.250100e+04</td>\n      <td>1.250100e+04</td>\n      <td>1.250100e+04</td>\n      <td>1.250100e+04</td>\n      <td>1.250100e+04</td>\n      <td>1.250100e+04</td>\n      <td>1.250100e+04</td>\n    </tr>\n    <tr>\n      <th>mean</th>\n      <td>3715.477802</td>\n      <td>6.0</td>\n      <td>2.447975e+07</td>\n      <td>7.016879</td>\n      <td>0.0</td>\n      <td>6.197359e+03</td>\n      <td>0.0</td>\n      <td>373.742261</td>\n      <td>60.501240</td>\n      <td>119.596010</td>\n      <td>...</td>\n      <td>5.62603</td>\n      <td>20.0</td>\n      <td>4.570678e+04</td>\n      <td>4.642705e+04</td>\n      <td>9.995754e+04</td>\n      <td>1.543567e+03</td>\n      <td>9.100694e+06</td>\n      <td>1.034236e+07</td>\n      <td>2.144696e+07</td>\n      <td>4.519078e+04</td>\n    </tr>\n    <tr>\n      <th>std</th>\n      <td>11906.791120</td>\n      <td>0.0</td>\n      <td>1.047696e+07</td>\n      <td>76.907398</td>\n      <td>0.0</td>\n      <td>1.833340e+05</td>\n      <td>0.0</td>\n      <td>1692.337233</td>\n      <td>1.662943</td>\n      <td>168.204841</td>\n      <td>...</td>\n      <td>76.83863</td>\n      <td>0.0</td>\n      <td>5.247163e+05</td>\n      <td>5.257001e+05</td>\n      <td>1.107267e+06</td>\n      <td>4.150912e+04</td>\n      <td>4.945828e+06</td>\n      <td>4.821658e+06</td>\n      <td>9.671536e+06</td>\n      <td>1.904658e+05</td>\n    </tr>\n    <tr>\n      <th>min</th>\n      <td>80.000000</td>\n      <td>6.0</td>\n      <td>0.000000e+00</td>\n      <td>1.000000</td>\n      <td>0.0</td>\n      <td>6.000000e+01</td>\n      <td>0.0</td>\n      <td>60.000000</td>\n      <td>60.000000</td>\n      <td>60.000000</td>\n      <td>...</td>\n      <td>0.00000</td>\n      <td>20.0</td>\n      <td>0.000000e+00</td>\n      <td>0.000000e+00</td>\n      <td>0.000000e+00</td>\n      <td>0.000000e+00</td>\n      <td>0.000000e+00</td>\n      <td>0.000000e+00</td>\n      <td>0.000000e+00</td>\n      <td>0.000000e+00</td>\n    </tr>\n    <tr>\n      <th>25%</th>\n      <td>80.000000</td>\n      <td>6.0</td>\n      <td>2.716014e+07</td>\n      <td>4.000000</td>\n      <td>0.0</td>\n      <td>2.460000e+02</td>\n      <td>0.0</td>\n      <td>66.000000</td>\n      <td>60.000000</td>\n      <td>61.500000</td>\n      <td>...</td>\n      <td>3.00000</td>\n      <td>20.0</td>\n      <td>0.000000e+00</td>\n      <td>0.000000e+00</td>\n      <td>0.000000e+00</td>\n      <td>0.000000e+00</td>\n      <td>7.305678e+06</td>\n      <td>9.551115e+06</td>\n      <td>2.177167e+07</td>\n      <td>9.084000e+03</td>\n    </tr>\n    <tr>\n      <th>50%</th>\n      <td>80.000000</td>\n      <td>6.0</td>\n      <td>2.919319e+07</td>\n      <td>5.000000</td>\n      <td>0.0</td>\n      <td>6.120000e+02</td>\n      <td>0.0</td>\n      <td>355.000000</td>\n      <td>60.000000</td>\n      <td>117.400000</td>\n      <td>...</td>\n      <td>4.00000</td>\n      <td>20.0</td>\n      <td>0.000000e+00</td>\n      <td>0.000000e+00</td>\n      <td>0.000000e+00</td>\n      <td>0.000000e+00</td>\n      <td>8.150338e+06</td>\n      <td>1.113120e+07</td>\n      <td>2.372316e+07</td>\n      <td>1.059900e+04</td>\n    </tr>\n    <tr>\n      <th>75%</th>\n      <td>80.000000</td>\n      <td>6.0</td>\n      <td>3.002376e+07</td>\n      <td>5.000000</td>\n      <td>0.0</td>\n      <td>7.540000e+02</td>\n      <td>0.0</td>\n      <td>481.000000</td>\n      <td>60.000000</td>\n      <td>144.666667</td>\n      <td>...</td>\n      <td>4.00000</td>\n      <td>20.0</td>\n      <td>0.000000e+00</td>\n      <td>0.000000e+00</td>\n      <td>0.000000e+00</td>\n      <td>0.000000e+00</td>\n      <td>1.499955e+07</td>\n      <td>1.498582e+07</td>\n      <td>2.998566e+07</td>\n      <td>1.606100e+04</td>\n    </tr>\n    <tr>\n      <th>max</th>\n      <td>59360.000000</td>\n      <td>6.0</td>\n      <td>6.336587e+07</td>\n      <td>4786.000000</td>\n      <td>0.0</td>\n      <td>8.437957e+06</td>\n      <td>0.0</td>\n      <td>65302.000000</td>\n      <td>74.000000</td>\n      <td>5662.657188</td>\n      <td>...</td>\n      <td>4782.00000</td>\n      <td>20.0</td>\n      <td>1.325843e+07</td>\n      <td>1.359454e+07</td>\n      <td>3.150764e+07</td>\n      <td>2.402712e+06</td>\n      <td>1.723743e+07</td>\n      <td>1.722575e+07</td>\n      <td>3.446318e+07</td>\n      <td>4.967589e+06</td>\n    </tr>\n  </tbody>\n</table>\n<p>8 rows × 78 columns</p>\n</div>"
     },
     "metadata": {},
     "execution_count": 10
    }
   ],
   "source": [
    "df_predicted.describe()"
   ]
  },
  {
   "cell_type": "code",
   "execution_count": 11,
   "metadata": {},
   "outputs": [
    {
     "output_type": "execute_result",
     "data": {
      "text/plain": [
       "Dst Port           int64\n",
       "Protocol           int64\n",
       "Timestamp         object\n",
       "Flow Duration      int64\n",
       "Tot Fwd Pkts       int64\n",
       "                  ...   \n",
       "Idle Mean        float64\n",
       "Idle Std         float64\n",
       "Idle Max         float64\n",
       "Idle Min         float64\n",
       "Label             object\n",
       "Length: 80, dtype: object"
      ]
     },
     "metadata": {},
     "execution_count": 11
    }
   ],
   "source": [
    "df.dtypes"
   ]
  },
  {
   "cell_type": "code",
   "execution_count": 12,
   "metadata": {},
   "outputs": [
    {
     "output_type": "execute_result",
     "data": {
      "text/plain": [
       "array(['Benign', 'Bot', 'FTP-BruteForce', 'SSH-Bruteforce',\n",
       "       'DoS attacks-GoldenEye', 'DoS attacks-Slowloris',\n",
       "       'DoS attacks-Hulk', 'DoS attacks-SlowHTTPTest',\n",
       "       'DDoS attacks-LOIC-HTTP', 'DDOS attack-HOIC',\n",
       "       'DDOS attack-LOIC-UDP', 'Brute Force -Web', 'Brute Force -XSS',\n",
       "       'SQL Injection', 'Infilteration'], dtype=object)"
      ]
     },
     "metadata": {},
     "execution_count": 12
    }
   ],
   "source": [
    "df['Label'].unique()"
   ]
  },
  {
   "cell_type": "code",
   "execution_count": 13,
   "metadata": {},
   "outputs": [
    {
     "output_type": "execute_result",
     "data": {
      "text/plain": [
       "         Dst Port  Protocol  Timestamp  Flow Duration  Tot Fwd Pkts  \\\n",
       "0           False     False      False          False         False   \n",
       "1           False     False      False          False         False   \n",
       "2           False     False      False          False         False   \n",
       "3           False     False      False          False         False   \n",
       "4           False     False      False          False         False   \n",
       "...           ...       ...        ...            ...           ...   \n",
       "1623288     False     False      False          False         False   \n",
       "1623289     False     False      False          False         False   \n",
       "1623290     False     False      False          False         False   \n",
       "1623291     False     False      False          False         False   \n",
       "1623292     False     False      False          False         False   \n",
       "\n",
       "         Tot Bwd Pkts  TotLen Fwd Pkts  TotLen Bwd Pkts  Fwd Pkt Len Max  \\\n",
       "0               False            False            False            False   \n",
       "1               False            False            False            False   \n",
       "2               False            False            False            False   \n",
       "3               False            False            False            False   \n",
       "4               False            False            False            False   \n",
       "...               ...              ...              ...              ...   \n",
       "1623288         False            False            False            False   \n",
       "1623289         False            False            False            False   \n",
       "1623290         False            False            False            False   \n",
       "1623291         False            False            False            False   \n",
       "1623292         False            False            False            False   \n",
       "\n",
       "         Fwd Pkt Len Min  ...  Fwd Seg Size Min  Active Mean  Active Std  \\\n",
       "0                  False  ...             False        False       False   \n",
       "1                  False  ...             False        False       False   \n",
       "2                  False  ...             False        False       False   \n",
       "3                  False  ...             False        False       False   \n",
       "4                  False  ...             False        False       False   \n",
       "...                  ...  ...               ...          ...         ...   \n",
       "1623288            False  ...             False        False       False   \n",
       "1623289            False  ...             False        False       False   \n",
       "1623290            False  ...             False        False       False   \n",
       "1623291            False  ...             False        False       False   \n",
       "1623292            False  ...             False        False       False   \n",
       "\n",
       "         Active Max  Active Min  Idle Mean  Idle Std  Idle Max  Idle Min  \\\n",
       "0             False       False      False     False     False     False   \n",
       "1             False       False      False     False     False     False   \n",
       "2             False       False      False     False     False     False   \n",
       "3             False       False      False     False     False     False   \n",
       "4             False       False      False     False     False     False   \n",
       "...             ...         ...        ...       ...       ...       ...   \n",
       "1623288       False       False      False     False     False     False   \n",
       "1623289       False       False      False     False     False     False   \n",
       "1623290       False       False      False     False     False     False   \n",
       "1623291       False       False      False     False     False     False   \n",
       "1623292       False       False      False     False     False     False   \n",
       "\n",
       "         Label  \n",
       "0        False  \n",
       "1        False  \n",
       "2        False  \n",
       "3        False  \n",
       "4        False  \n",
       "...        ...  \n",
       "1623288  False  \n",
       "1623289  False  \n",
       "1623290  False  \n",
       "1623291  False  \n",
       "1623292  False  \n",
       "\n",
       "[1623293 rows x 80 columns]"
      ],
      "text/html": "<div>\n<style scoped>\n    .dataframe tbody tr th:only-of-type {\n        vertical-align: middle;\n    }\n\n    .dataframe tbody tr th {\n        vertical-align: top;\n    }\n\n    .dataframe thead th {\n        text-align: right;\n    }\n</style>\n<table border=\"1\" class=\"dataframe\">\n  <thead>\n    <tr style=\"text-align: right;\">\n      <th></th>\n      <th>Dst Port</th>\n      <th>Protocol</th>\n      <th>Timestamp</th>\n      <th>Flow Duration</th>\n      <th>Tot Fwd Pkts</th>\n      <th>Tot Bwd Pkts</th>\n      <th>TotLen Fwd Pkts</th>\n      <th>TotLen Bwd Pkts</th>\n      <th>Fwd Pkt Len Max</th>\n      <th>Fwd Pkt Len Min</th>\n      <th>...</th>\n      <th>Fwd Seg Size Min</th>\n      <th>Active Mean</th>\n      <th>Active Std</th>\n      <th>Active Max</th>\n      <th>Active Min</th>\n      <th>Idle Mean</th>\n      <th>Idle Std</th>\n      <th>Idle Max</th>\n      <th>Idle Min</th>\n      <th>Label</th>\n    </tr>\n  </thead>\n  <tbody>\n    <tr>\n      <th>0</th>\n      <td>False</td>\n      <td>False</td>\n      <td>False</td>\n      <td>False</td>\n      <td>False</td>\n      <td>False</td>\n      <td>False</td>\n      <td>False</td>\n      <td>False</td>\n      <td>False</td>\n      <td>...</td>\n      <td>False</td>\n      <td>False</td>\n      <td>False</td>\n      <td>False</td>\n      <td>False</td>\n      <td>False</td>\n      <td>False</td>\n      <td>False</td>\n      <td>False</td>\n      <td>False</td>\n    </tr>\n    <tr>\n      <th>1</th>\n      <td>False</td>\n      <td>False</td>\n      <td>False</td>\n      <td>False</td>\n      <td>False</td>\n      <td>False</td>\n      <td>False</td>\n      <td>False</td>\n      <td>False</td>\n      <td>False</td>\n      <td>...</td>\n      <td>False</td>\n      <td>False</td>\n      <td>False</td>\n      <td>False</td>\n      <td>False</td>\n      <td>False</td>\n      <td>False</td>\n      <td>False</td>\n      <td>False</td>\n      <td>False</td>\n    </tr>\n    <tr>\n      <th>2</th>\n      <td>False</td>\n      <td>False</td>\n      <td>False</td>\n      <td>False</td>\n      <td>False</td>\n      <td>False</td>\n      <td>False</td>\n      <td>False</td>\n      <td>False</td>\n      <td>False</td>\n      <td>...</td>\n      <td>False</td>\n      <td>False</td>\n      <td>False</td>\n      <td>False</td>\n      <td>False</td>\n      <td>False</td>\n      <td>False</td>\n      <td>False</td>\n      <td>False</td>\n      <td>False</td>\n    </tr>\n    <tr>\n      <th>3</th>\n      <td>False</td>\n      <td>False</td>\n      <td>False</td>\n      <td>False</td>\n      <td>False</td>\n      <td>False</td>\n      <td>False</td>\n      <td>False</td>\n      <td>False</td>\n      <td>False</td>\n      <td>...</td>\n      <td>False</td>\n      <td>False</td>\n      <td>False</td>\n      <td>False</td>\n      <td>False</td>\n      <td>False</td>\n      <td>False</td>\n      <td>False</td>\n      <td>False</td>\n      <td>False</td>\n    </tr>\n    <tr>\n      <th>4</th>\n      <td>False</td>\n      <td>False</td>\n      <td>False</td>\n      <td>False</td>\n      <td>False</td>\n      <td>False</td>\n      <td>False</td>\n      <td>False</td>\n      <td>False</td>\n      <td>False</td>\n      <td>...</td>\n      <td>False</td>\n      <td>False</td>\n      <td>False</td>\n      <td>False</td>\n      <td>False</td>\n      <td>False</td>\n      <td>False</td>\n      <td>False</td>\n      <td>False</td>\n      <td>False</td>\n    </tr>\n    <tr>\n      <th>...</th>\n      <td>...</td>\n      <td>...</td>\n      <td>...</td>\n      <td>...</td>\n      <td>...</td>\n      <td>...</td>\n      <td>...</td>\n      <td>...</td>\n      <td>...</td>\n      <td>...</td>\n      <td>...</td>\n      <td>...</td>\n      <td>...</td>\n      <td>...</td>\n      <td>...</td>\n      <td>...</td>\n      <td>...</td>\n      <td>...</td>\n      <td>...</td>\n      <td>...</td>\n      <td>...</td>\n    </tr>\n    <tr>\n      <th>1623288</th>\n      <td>False</td>\n      <td>False</td>\n      <td>False</td>\n      <td>False</td>\n      <td>False</td>\n      <td>False</td>\n      <td>False</td>\n      <td>False</td>\n      <td>False</td>\n      <td>False</td>\n      <td>...</td>\n      <td>False</td>\n      <td>False</td>\n      <td>False</td>\n      <td>False</td>\n      <td>False</td>\n      <td>False</td>\n      <td>False</td>\n      <td>False</td>\n      <td>False</td>\n      <td>False</td>\n    </tr>\n    <tr>\n      <th>1623289</th>\n      <td>False</td>\n      <td>False</td>\n      <td>False</td>\n      <td>False</td>\n      <td>False</td>\n      <td>False</td>\n      <td>False</td>\n      <td>False</td>\n      <td>False</td>\n      <td>False</td>\n      <td>...</td>\n      <td>False</td>\n      <td>False</td>\n      <td>False</td>\n      <td>False</td>\n      <td>False</td>\n      <td>False</td>\n      <td>False</td>\n      <td>False</td>\n      <td>False</td>\n      <td>False</td>\n    </tr>\n    <tr>\n      <th>1623290</th>\n      <td>False</td>\n      <td>False</td>\n      <td>False</td>\n      <td>False</td>\n      <td>False</td>\n      <td>False</td>\n      <td>False</td>\n      <td>False</td>\n      <td>False</td>\n      <td>False</td>\n      <td>...</td>\n      <td>False</td>\n      <td>False</td>\n      <td>False</td>\n      <td>False</td>\n      <td>False</td>\n      <td>False</td>\n      <td>False</td>\n      <td>False</td>\n      <td>False</td>\n      <td>False</td>\n    </tr>\n    <tr>\n      <th>1623291</th>\n      <td>False</td>\n      <td>False</td>\n      <td>False</td>\n      <td>False</td>\n      <td>False</td>\n      <td>False</td>\n      <td>False</td>\n      <td>False</td>\n      <td>False</td>\n      <td>False</td>\n      <td>...</td>\n      <td>False</td>\n      <td>False</td>\n      <td>False</td>\n      <td>False</td>\n      <td>False</td>\n      <td>False</td>\n      <td>False</td>\n      <td>False</td>\n      <td>False</td>\n      <td>False</td>\n    </tr>\n    <tr>\n      <th>1623292</th>\n      <td>False</td>\n      <td>False</td>\n      <td>False</td>\n      <td>False</td>\n      <td>False</td>\n      <td>False</td>\n      <td>False</td>\n      <td>False</td>\n      <td>False</td>\n      <td>False</td>\n      <td>...</td>\n      <td>False</td>\n      <td>False</td>\n      <td>False</td>\n      <td>False</td>\n      <td>False</td>\n      <td>False</td>\n      <td>False</td>\n      <td>False</td>\n      <td>False</td>\n      <td>False</td>\n    </tr>\n  </tbody>\n</table>\n<p>1623293 rows × 80 columns</p>\n</div>"
     },
     "metadata": {},
     "execution_count": 13
    }
   ],
   "source": [
    "df.isnull()"
   ]
  },
  {
   "cell_type": "code",
   "execution_count": 14,
   "metadata": {},
   "outputs": [
    {
     "output_type": "stream",
     "name": "stderr",
     "text": [
      "C:\\Users\\gmrdk\\anaconda3\\envs\\ml-ids\\lib\\site-packages\\pandas\\io\\formats\\format.py:1405: FutureWarning: Index.ravel returning ndarray is deprecated; in a future version this will return a view on self.\n  for val, m in zip(values.ravel(), mask.ravel())\nC:\\Users\\gmrdk\\anaconda3\\envs\\ml-ids\\lib\\site-packages\\pandas\\io\\formats\\format.py:1405: FutureWarning: Index.ravel returning ndarray is deprecated; in a future version this will return a view on self.\n  for val, m in zip(values.ravel(), mask.ravel())\nC:\\Users\\gmrdk\\anaconda3\\envs\\ml-ids\\lib\\site-packages\\pandas\\io\\formats\\format.py:1405: FutureWarning: Index.ravel returning ndarray is deprecated; in a future version this will return a view on self.\n  for val, m in zip(values.ravel(), mask.ravel())\n"
     ]
    },
    {
     "output_type": "execute_result",
     "data": {
      "text/plain": [
       "[197468.354400, 689.719107, 815.908598, 760844.079700, 0.000000, ..., 0.0000, 0.0000, 181347.1503, 227743.2712, 189618.6441]\n",
       "Length: 1623293\n",
       "Categories (851716, float64): [0.000000, 0.008432, 0.008704, 0.008724, ..., 7.880000e+08, 8.494545e+08, 8.860000e+08, inf]"
      ]
     },
     "metadata": {},
     "execution_count": 14
    }
   ],
   "source": [
    "pd.Categorical(df['Flow Byts/s'])"
   ]
  },
  {
   "cell_type": "code",
   "execution_count": 15,
   "metadata": {},
   "outputs": [
    {
     "output_type": "stream",
     "name": "stderr",
     "text": [
      "C:\\Users\\gmrdk\\anaconda3\\envs\\ml-ids\\lib\\site-packages\\pandas\\io\\formats\\format.py:1405: FutureWarning: Index.ravel returning ndarray is deprecated; in a future version this will return a view on self.\n  for val, m in zip(values.ravel(), mask.ravel())\nC:\\Users\\gmrdk\\anaconda3\\envs\\ml-ids\\lib\\site-packages\\pandas\\io\\formats\\format.py:1405: FutureWarning: Index.ravel returning ndarray is deprecated; in a future version this will return a view on self.\n  for val, m in zip(values.ravel(), mask.ravel())\n"
     ]
    },
    {
     "output_type": "execute_result",
     "data": {
      "text/plain": [
       "[5063.291139, 2.056305, 5.657103, 8206.330598, 35087.719300, ..., 23.442536, 7547.169811, 2072.538860, 4140.786749, 2118.644068]\n",
       "Length: 1623293\n",
       "Categories (833119, float64): [0.016667, 0.016668, 0.016668, 0.016669, ..., 2500000.0, 3000000.0, 4000000.0, inf]"
      ]
     },
     "metadata": {},
     "execution_count": 15
    }
   ],
   "source": [
    "pd.Categorical(df['Flow Pkts/s'])# to check different value"
   ]
  },
  {
   "cell_type": "code",
   "execution_count": 16,
   "metadata": {},
   "outputs": [
    {
     "output_type": "execute_result",
     "data": {
      "text/plain": [
       "array([5.06329114e+03, 2.05630541e+00, 5.65710342e+00, ...,\n",
       "       2.92645811e+01, 8.65989309e+00, 2.34425365e+01])"
      ]
     },
     "metadata": {},
     "execution_count": 16
    }
   ],
   "source": [
    "df['Flow Pkts/s'].unique()"
   ]
  },
  {
   "cell_type": "code",
   "execution_count": 17,
   "metadata": {},
   "outputs": [],
   "source": [
    "# Drop timestamp\n",
    "df.drop('Timestamp',axis=1,inplace=True)\n",
    "df_predicted.drop('timestamp',axis=1,inplace=True)"
   ]
  },
  {
   "cell_type": "code",
   "execution_count": 18,
   "metadata": {},
   "outputs": [
    {
     "output_type": "execute_result",
     "data": {
      "text/plain": [
       "(1623293, 79)"
      ]
     },
     "metadata": {},
     "execution_count": 18
    }
   ],
   "source": [
    "df.shape"
   ]
  },
  {
   "cell_type": "code",
   "execution_count": 19,
   "metadata": {},
   "outputs": [],
   "source": [
    "df.drop(['Bwd PSH Flags','Fwd URG Flags','Bwd URG Flags','CWE Flag Count','Fwd Byts/b Avg','Fwd Pkts/b Avg','Fwd Blk Rate Avg','Bwd Byts/b Avg','Bwd Pkts/b Avg','Bwd Blk Rate Avg'],axis=1,inplace=True)\n",
    "df_predicted.drop(['bwd_psh_flags','fwd_urg_flags','bwd_urg_flags','cwe_flag_count','fwd_byts_b_avg','fwd_pkts_b_avg','fwd_blk_rate_avg','bwd_byts_b_avg','bwd_pkts_b_avg','bwd_blk_rate_avg'],axis=1,inplace=True)"
   ]
  },
  {
   "cell_type": "code",
   "execution_count": 20,
   "metadata": {},
   "outputs": [
    {
     "output_type": "execute_result",
     "data": {
      "text/plain": [
       "(1623293, 69)"
      ]
     },
     "metadata": {},
     "execution_count": 20
    }
   ],
   "source": [
    "df.shape"
   ]
  },
  {
   "cell_type": "code",
   "execution_count": 21,
   "metadata": {},
   "outputs": [
    {
     "output_type": "execute_result",
     "data": {
      "text/plain": [
       "Dst Port         0\n",
       "Protocol         0\n",
       "Flow Duration    0\n",
       "Tot Fwd Pkts     0\n",
       "Tot Bwd Pkts     0\n",
       "                ..\n",
       "Idle Mean        0\n",
       "Idle Std         0\n",
       "Idle Max         0\n",
       "Idle Min         0\n",
       "Label            0\n",
       "Length: 69, dtype: int64"
      ]
     },
     "metadata": {},
     "execution_count": 21
    }
   ],
   "source": [
    "# check NULL\n",
    "df.isnull().sum()"
   ]
  },
  {
   "cell_type": "code",
   "execution_count": 22,
   "metadata": {},
   "outputs": [],
   "source": [
    "# removing NAN and INF values\n",
    "df['Flow Pkts/s']= df['Flow Pkts/s'].fillna(0)\n",
    "df['Flow Byts/s']= df['Flow Byts/s'].fillna(0)\n",
    "df['Flow Pkts/s']= df['Flow Pkts/s'].replace(np.Infinity,1)\n",
    "df['Flow Byts/s']= df['Flow Byts/s'].replace(np.Infinity,1)\n",
    "\n",
    "df_predicted['flow_pkts_s']= df_predicted['flow_pkts_s'].fillna(0)\n",
    "df_predicted['flow_byts_s']= df_predicted['flow_byts_s'].fillna(0)\n",
    "df_predicted['flow_pkts_s']= df_predicted['flow_pkts_s'].replace(np.Infinity,1)\n",
    "df_predicted['flow_byts_s']= df_predicted['flow_byts_s'].replace(np.Infinity,1)"
   ]
  },
  {
   "cell_type": "code",
   "execution_count": 23,
   "metadata": {},
   "outputs": [
    {
     "output_type": "stream",
     "name": "stderr",
     "text": [
      "C:\\Users\\gmrdk\\anaconda3\\envs\\ml-ids\\lib\\site-packages\\pandas\\io\\formats\\format.py:1405: FutureWarning: Index.ravel returning ndarray is deprecated; in a future version this will return a view on self.\n  for val, m in zip(values.ravel(), mask.ravel())\nC:\\Users\\gmrdk\\anaconda3\\envs\\ml-ids\\lib\\site-packages\\pandas\\io\\formats\\format.py:1405: FutureWarning: Index.ravel returning ndarray is deprecated; in a future version this will return a view on self.\n  for val, m in zip(values.ravel(), mask.ravel())\nC:\\Users\\gmrdk\\anaconda3\\envs\\ml-ids\\lib\\site-packages\\pandas\\io\\formats\\format.py:1405: FutureWarning: Index.ravel returning ndarray is deprecated; in a future version this will return a view on self.\n  for val, m in zip(values.ravel(), mask.ravel())\n"
     ]
    },
    {
     "output_type": "execute_result",
     "data": {
      "text/plain": [
       "[197468.354400, 689.719107, 815.908598, 760844.079700, 0.000000, ..., 0.0000, 0.0000, 181347.1503, 227743.2712, 189618.6441]\n",
       "Length: 1623293\n",
       "Categories (851716, float64): [0.000000, 0.008432, 0.008704, 0.008724, ..., 7.300000e+08, 7.880000e+08, 8.494545e+08, 8.860000e+08]"
      ]
     },
     "metadata": {},
     "execution_count": 23
    }
   ],
   "source": [
    "# now no INF and NAN values\n",
    "pd.Categorical(df['Flow Byts/s'])"
   ]
  },
  {
   "cell_type": "code",
   "execution_count": 24,
   "metadata": {},
   "outputs": [
    {
     "output_type": "stream",
     "name": "stderr",
     "text": [
      "C:\\Users\\gmrdk\\anaconda3\\envs\\ml-ids\\lib\\site-packages\\pandas\\io\\formats\\format.py:1405: FutureWarning: Index.ravel returning ndarray is deprecated; in a future version this will return a view on self.\n  for val, m in zip(values.ravel(), mask.ravel())\nC:\\Users\\gmrdk\\anaconda3\\envs\\ml-ids\\lib\\site-packages\\pandas\\io\\formats\\format.py:1405: FutureWarning: Index.ravel returning ndarray is deprecated; in a future version this will return a view on self.\n  for val, m in zip(values.ravel(), mask.ravel())\n"
     ]
    },
    {
     "output_type": "execute_result",
     "data": {
      "text/plain": [
       "[5063.291139, 2.056305, 5.657103, 8206.330598, 35087.719300, ..., 23.442536, 7547.169811, 2072.538860, 4140.786749, 2118.644068]\n",
       "Length: 1623293\n",
       "Categories (833119, float64): [0.016667, 0.016668, 0.016668, 0.016669, ..., 2000000.0, 2500000.0, 3000000.0, 4000000.0]"
      ]
     },
     "metadata": {},
     "execution_count": 24
    }
   ],
   "source": [
    "pd.Categorical(df['Flow Pkts/s'])"
   ]
  },
  {
   "cell_type": "code",
   "execution_count": 25,
   "metadata": {},
   "outputs": [
    {
     "output_type": "execute_result",
     "data": {
      "text/plain": [
       "(1623293, 69)"
      ]
     },
     "metadata": {},
     "execution_count": 25
    }
   ],
   "source": [
    "df.shape"
   ]
  },
  {
   "cell_type": "code",
   "execution_count": 26,
   "metadata": {},
   "outputs": [],
   "source": [
    "#dataset.train = df.groupby('Label').apply(pd.DataFrame.sample, frac=0.8).reset_index(level='Label', drop=True)\n",
    "#dataset.test = df.drop(dataset.train.index)\n",
    "#dataset.label = dataset.train.Label.copy()"
   ]
  },
  {
   "cell_type": "code",
   "execution_count": null,
   "metadata": {},
   "outputs": [],
   "source": [
    "dataset.label.unique()"
   ]
  },
  {
   "cell_type": "code",
   "execution_count": 32,
   "metadata": {},
   "outputs": [
    {
     "output_type": "execute_result",
     "data": {
      "text/plain": [
       "0     1348471\n",
       "4       68601\n",
       "6       57619\n",
       "8       46191\n",
       "1       28619\n",
       "11      19336\n",
       "14      18759\n",
       "12      16193\n",
       "9       13989\n",
       "7        4151\n",
       "10       1099\n",
       "5         173\n",
       "2          61\n",
       "3          23\n",
       "13          8\n",
       "Name: Label, dtype: int64"
      ]
     },
     "metadata": {},
     "execution_count": 32
    }
   ],
   "source": [
    "d1 = df.replace('Benign', 0) # here converting the categorical values to numeric\n",
    "d2 = d1.replace('Bot', 1)\n",
    "d3 = d2.replace('Brute Force -Web', 2)\n",
    "d4 = d3.replace('Brute Force -XSS', 3)\n",
    "d5 = d4.replace('DDOS attack-HOIC', 4)\n",
    "d6 = d5.replace('DDOS attack-LOIC-UDP', 5)\n",
    "d7 = d6.replace('DDoS attacks-LOIC-HTTP' ,6)\n",
    "d8 = d7.replace('DoS attacks-GoldenEye', 7)\n",
    "d9 = d8.replace('DoS attacks-Hulk', 8)\n",
    "d10 = d9.replace('DoS attacks-SlowHTTPTest', 9)\n",
    "d11 = d10.replace('DoS attacks-Slowloris', 10)\n",
    "d12 = d11.replace('FTP-BruteForce', 11)\n",
    "d13 = d12.replace('Infilteration', 12)\n",
    "d14 = d13.replace('SQL Injection', 13)\n",
    "d15 = d14.replace('SSH-Bruteforce', 14)\n",
    "d15_label = d15.Label.copy()\n",
    "d15_label.unique()\n",
    "d15_label.value_counts()"
   ]
  },
  {
   "cell_type": "code",
   "execution_count": 38,
   "metadata": {},
   "outputs": [],
   "source": [
    "d15 = d15.drop(columns=\"Label\")"
   ]
  },
  {
   "cell_type": "code",
   "execution_count": 39,
   "metadata": {},
   "outputs": [],
   "source": [
    "df_predicted.columns = d15.columns"
   ]
  },
  {
   "cell_type": "code",
   "execution_count": 30,
   "metadata": {},
   "outputs": [
    {
     "output_type": "execute_result",
     "data": {
      "text/plain": [
       "array([ 0,  1, 11, 14,  7, 10,  8,  9,  6,  4,  5,  2,  3, 13, 12],\n",
       "      dtype=int64)"
      ]
     },
     "metadata": {},
     "execution_count": 30
    }
   ],
   "source": [
    "d15_label.unique()"
   ]
  },
  {
   "cell_type": "code",
   "execution_count": null,
   "metadata": {},
   "outputs": [],
   "source": [
    "df.unique() "
   ]
  },
  {
   "cell_type": "code",
   "execution_count": null,
   "metadata": {},
   "outputs": [],
   "source": [
    "\"\"\"\n",
    "dataset.test_label = dataset.test.Label.copy()\n",
    "dataset.test_label.unique()\n",
    "a1_label = dataset.test.Label.copy()\n",
    "a1_label.unique()\n",
    "\"\"\""
   ]
  },
  {
   "cell_type": "code",
   "execution_count": null,
   "metadata": {},
   "outputs": [],
   "source": [
    "\"\"\"\n",
    "a1 = dataset.test.replace('Benign', 0)\n",
    "a2 = a1.replace('Bot', 1)\n",
    "a5_label = a2.Label.copy()\n",
    "a5_label.unique()\n",
    "a5_label.value_counts()\n",
    "\"\"\""
   ]
  },
  {
   "cell_type": "code",
   "execution_count": 40,
   "metadata": {},
   "outputs": [
    {
     "output_type": "stream",
     "name": "stdout",
     "text": [
      "Length of Categories for Protocol are 3\nCategories for Protocol are Int64Index([6], dtype='int64') \n\n"
     ]
    }
   ],
   "source": [
    "# Categorizing Protocol -> Protocol_0, Protocol_6, Protocol_17\n",
    "category_variables = [\"Protocol\"]\n",
    "for cv in category_variables:\n",
    "    d15[cv] = d15[cv].astype(\"category\")\n",
    "    df_predicted[cv] = df_predicted[cv].astype(\"category\")\n",
    "    \n",
    "    print(\"Length of Categories for {} are {}\".format(cv , len(d15[cv].cat.categories)))\n",
    "    print(\"Categories for {} are {} \\n\".format(cv ,df_predicted[cv].cat.categories))"
   ]
  },
  {
   "cell_type": "code",
   "execution_count": 69,
   "metadata": {},
   "outputs": [],
   "source": [
    "dummy_variables_2labels = category_variables\n",
    "    \n",
    "class preprocessing:\n",
    "    train_labels = pd.get_dummies(d15, columns = dummy_variables_2labels, prefix=dummy_variables_2labels)\n",
    "    test_labels = pd.get_dummies(df_predicted, columns = dummy_variables_2labels, prefix=dummy_variables_2labels)"
   ]
  },
  {
   "cell_type": "code",
   "execution_count": 70,
   "metadata": {},
   "outputs": [
    {
     "output_type": "execute_result",
     "data": {
      "text/plain": [
       "   Dst Port  Flow Duration  Tot Fwd Pkts  Tot Bwd Pkts  TotLen Fwd Pkts  \\\n",
       "0        80       26870384             5             0              659   \n",
       "1     43908         372198             5             0              486   \n",
       "2        80       27580343             5             0              827   \n",
       "3        80       27248690             5             0              627   \n",
       "4        80       28830565             5             0              791   \n",
       "\n",
       "   TotLen Bwd Pkts  Fwd Pkt Len Max  Fwd Pkt Len Min  Fwd Pkt Len Mean  \\\n",
       "0                0              413               60             131.8   \n",
       "1                0              214               66              97.2   \n",
       "2                0              581               60             165.4   \n",
       "3                0              381               60             125.4   \n",
       "4                0              545               60             158.2   \n",
       "\n",
       "   Fwd Pkt Len Std  ...  Active Std  Active Max  Active Min    Idle Mean  \\\n",
       "0       140.619202  ...         0.0           0           0  7291957.667   \n",
       "1        58.482134  ...         0.0           0           0   157598.500   \n",
       "2       207.812993  ...         0.0           0           0  7517379.667   \n",
       "3       127.821125  ...         0.0           0           0  7409746.000   \n",
       "4       193.413960  ...         0.0           0           0  7927495.000   \n",
       "\n",
       "      Idle Std  Idle Max  Idle Min  Protocol_0  Protocol_6  Protocol_17  \n",
       "0  10295440.45  21851909      9971           0           1            0  \n",
       "1       158.50    157757    157440           0           1            0  \n",
       "2  10594394.43  22500101      7682           0           1            0  \n",
       "3  10452004.13  22191106      7534           0           1            0  \n",
       "4  11165319.06  23717619      9795           0           1            0  \n",
       "\n",
       "[5 rows x 70 columns]"
      ],
      "text/html": "<div>\n<style scoped>\n    .dataframe tbody tr th:only-of-type {\n        vertical-align: middle;\n    }\n\n    .dataframe tbody tr th {\n        vertical-align: top;\n    }\n\n    .dataframe thead th {\n        text-align: right;\n    }\n</style>\n<table border=\"1\" class=\"dataframe\">\n  <thead>\n    <tr style=\"text-align: right;\">\n      <th></th>\n      <th>Dst Port</th>\n      <th>Flow Duration</th>\n      <th>Tot Fwd Pkts</th>\n      <th>Tot Bwd Pkts</th>\n      <th>TotLen Fwd Pkts</th>\n      <th>TotLen Bwd Pkts</th>\n      <th>Fwd Pkt Len Max</th>\n      <th>Fwd Pkt Len Min</th>\n      <th>Fwd Pkt Len Mean</th>\n      <th>Fwd Pkt Len Std</th>\n      <th>...</th>\n      <th>Active Std</th>\n      <th>Active Max</th>\n      <th>Active Min</th>\n      <th>Idle Mean</th>\n      <th>Idle Std</th>\n      <th>Idle Max</th>\n      <th>Idle Min</th>\n      <th>Protocol_0</th>\n      <th>Protocol_6</th>\n      <th>Protocol_17</th>\n    </tr>\n  </thead>\n  <tbody>\n    <tr>\n      <th>0</th>\n      <td>80</td>\n      <td>26870384</td>\n      <td>5</td>\n      <td>0</td>\n      <td>659</td>\n      <td>0</td>\n      <td>413</td>\n      <td>60</td>\n      <td>131.8</td>\n      <td>140.619202</td>\n      <td>...</td>\n      <td>0.0</td>\n      <td>0</td>\n      <td>0</td>\n      <td>7291957.667</td>\n      <td>10295440.45</td>\n      <td>21851909</td>\n      <td>9971</td>\n      <td>0</td>\n      <td>1</td>\n      <td>0</td>\n    </tr>\n    <tr>\n      <th>1</th>\n      <td>43908</td>\n      <td>372198</td>\n      <td>5</td>\n      <td>0</td>\n      <td>486</td>\n      <td>0</td>\n      <td>214</td>\n      <td>66</td>\n      <td>97.2</td>\n      <td>58.482134</td>\n      <td>...</td>\n      <td>0.0</td>\n      <td>0</td>\n      <td>0</td>\n      <td>157598.500</td>\n      <td>158.50</td>\n      <td>157757</td>\n      <td>157440</td>\n      <td>0</td>\n      <td>1</td>\n      <td>0</td>\n    </tr>\n    <tr>\n      <th>2</th>\n      <td>80</td>\n      <td>27580343</td>\n      <td>5</td>\n      <td>0</td>\n      <td>827</td>\n      <td>0</td>\n      <td>581</td>\n      <td>60</td>\n      <td>165.4</td>\n      <td>207.812993</td>\n      <td>...</td>\n      <td>0.0</td>\n      <td>0</td>\n      <td>0</td>\n      <td>7517379.667</td>\n      <td>10594394.43</td>\n      <td>22500101</td>\n      <td>7682</td>\n      <td>0</td>\n      <td>1</td>\n      <td>0</td>\n    </tr>\n    <tr>\n      <th>3</th>\n      <td>80</td>\n      <td>27248690</td>\n      <td>5</td>\n      <td>0</td>\n      <td>627</td>\n      <td>0</td>\n      <td>381</td>\n      <td>60</td>\n      <td>125.4</td>\n      <td>127.821125</td>\n      <td>...</td>\n      <td>0.0</td>\n      <td>0</td>\n      <td>0</td>\n      <td>7409746.000</td>\n      <td>10452004.13</td>\n      <td>22191106</td>\n      <td>7534</td>\n      <td>0</td>\n      <td>1</td>\n      <td>0</td>\n    </tr>\n    <tr>\n      <th>4</th>\n      <td>80</td>\n      <td>28830565</td>\n      <td>5</td>\n      <td>0</td>\n      <td>791</td>\n      <td>0</td>\n      <td>545</td>\n      <td>60</td>\n      <td>158.2</td>\n      <td>193.413960</td>\n      <td>...</td>\n      <td>0.0</td>\n      <td>0</td>\n      <td>0</td>\n      <td>7927495.000</td>\n      <td>11165319.06</td>\n      <td>23717619</td>\n      <td>9795</td>\n      <td>0</td>\n      <td>1</td>\n      <td>0</td>\n    </tr>\n  </tbody>\n</table>\n<p>5 rows × 70 columns</p>\n</div>"
     },
     "metadata": {},
     "execution_count": 70
    }
   ],
   "source": [
    "preprocessing.test_labels.insert(67,\"Protocol_0\",0,True)\n",
    "preprocessing.test_labels.insert(69,\"Protocol_17\",0,True)\n",
    "preprocessing.test_labels.head()"
   ]
  },
  {
   "cell_type": "code",
   "execution_count": 71,
   "metadata": {},
   "outputs": [
    {
     "output_type": "execute_result",
     "data": {
      "text/plain": [
       "   Dst Port  Flow Duration  Tot Fwd Pkts  Tot Bwd Pkts  TotLen Fwd Pkts  \\\n",
       "0        53            395             1             1             31.0   \n",
       "1       443        5835709             8             4            598.0   \n",
       "2      3389        3888916            14             8           1442.0   \n",
       "3        80            853             3             4            161.0   \n",
       "4     50966             57             2             0              0.0   \n",
       "\n",
       "   TotLen Bwd Pkts  Fwd Pkt Len Max  Fwd Pkt Len Min  Fwd Pkt Len Mean  \\\n",
       "0             47.0             31.0             31.0         31.000000   \n",
       "1           3427.0            342.0              0.0         74.750000   \n",
       "2           1731.0            725.0              0.0        103.000000   \n",
       "3            488.0            161.0              0.0         53.666667   \n",
       "4              0.0              0.0              0.0          0.000000   \n",
       "\n",
       "   Fwd Pkt Len Std  ...  Active Std  Active Max  Active Min  Idle Mean  \\\n",
       "0         0.000000  ...         0.0         0.0         0.0        0.0   \n",
       "1       128.886162  ...         0.0    350083.0    350083.0  5485590.0   \n",
       "2       191.125412  ...         0.0         0.0         0.0        0.0   \n",
       "3        92.953393  ...         0.0         0.0         0.0        0.0   \n",
       "4         0.000000  ...         0.0         0.0         0.0        0.0   \n",
       "\n",
       "   Idle Std   Idle Max   Idle Min  Protocol_0  Protocol_6  Protocol_17  \n",
       "0       0.0        0.0        0.0           0           0            1  \n",
       "1       0.0  5485590.0  5485590.0           0           1            0  \n",
       "2       0.0        0.0        0.0           0           1            0  \n",
       "3       0.0        0.0        0.0           0           1            0  \n",
       "4       0.0        0.0        0.0           0           1            0  \n",
       "\n",
       "[5 rows x 70 columns]"
      ],
      "text/html": "<div>\n<style scoped>\n    .dataframe tbody tr th:only-of-type {\n        vertical-align: middle;\n    }\n\n    .dataframe tbody tr th {\n        vertical-align: top;\n    }\n\n    .dataframe thead th {\n        text-align: right;\n    }\n</style>\n<table border=\"1\" class=\"dataframe\">\n  <thead>\n    <tr style=\"text-align: right;\">\n      <th></th>\n      <th>Dst Port</th>\n      <th>Flow Duration</th>\n      <th>Tot Fwd Pkts</th>\n      <th>Tot Bwd Pkts</th>\n      <th>TotLen Fwd Pkts</th>\n      <th>TotLen Bwd Pkts</th>\n      <th>Fwd Pkt Len Max</th>\n      <th>Fwd Pkt Len Min</th>\n      <th>Fwd Pkt Len Mean</th>\n      <th>Fwd Pkt Len Std</th>\n      <th>...</th>\n      <th>Active Std</th>\n      <th>Active Max</th>\n      <th>Active Min</th>\n      <th>Idle Mean</th>\n      <th>Idle Std</th>\n      <th>Idle Max</th>\n      <th>Idle Min</th>\n      <th>Protocol_0</th>\n      <th>Protocol_6</th>\n      <th>Protocol_17</th>\n    </tr>\n  </thead>\n  <tbody>\n    <tr>\n      <th>0</th>\n      <td>53</td>\n      <td>395</td>\n      <td>1</td>\n      <td>1</td>\n      <td>31.0</td>\n      <td>47.0</td>\n      <td>31.0</td>\n      <td>31.0</td>\n      <td>31.000000</td>\n      <td>0.000000</td>\n      <td>...</td>\n      <td>0.0</td>\n      <td>0.0</td>\n      <td>0.0</td>\n      <td>0.0</td>\n      <td>0.0</td>\n      <td>0.0</td>\n      <td>0.0</td>\n      <td>0</td>\n      <td>0</td>\n      <td>1</td>\n    </tr>\n    <tr>\n      <th>1</th>\n      <td>443</td>\n      <td>5835709</td>\n      <td>8</td>\n      <td>4</td>\n      <td>598.0</td>\n      <td>3427.0</td>\n      <td>342.0</td>\n      <td>0.0</td>\n      <td>74.750000</td>\n      <td>128.886162</td>\n      <td>...</td>\n      <td>0.0</td>\n      <td>350083.0</td>\n      <td>350083.0</td>\n      <td>5485590.0</td>\n      <td>0.0</td>\n      <td>5485590.0</td>\n      <td>5485590.0</td>\n      <td>0</td>\n      <td>1</td>\n      <td>0</td>\n    </tr>\n    <tr>\n      <th>2</th>\n      <td>3389</td>\n      <td>3888916</td>\n      <td>14</td>\n      <td>8</td>\n      <td>1442.0</td>\n      <td>1731.0</td>\n      <td>725.0</td>\n      <td>0.0</td>\n      <td>103.000000</td>\n      <td>191.125412</td>\n      <td>...</td>\n      <td>0.0</td>\n      <td>0.0</td>\n      <td>0.0</td>\n      <td>0.0</td>\n      <td>0.0</td>\n      <td>0.0</td>\n      <td>0.0</td>\n      <td>0</td>\n      <td>1</td>\n      <td>0</td>\n    </tr>\n    <tr>\n      <th>3</th>\n      <td>80</td>\n      <td>853</td>\n      <td>3</td>\n      <td>4</td>\n      <td>161.0</td>\n      <td>488.0</td>\n      <td>161.0</td>\n      <td>0.0</td>\n      <td>53.666667</td>\n      <td>92.953393</td>\n      <td>...</td>\n      <td>0.0</td>\n      <td>0.0</td>\n      <td>0.0</td>\n      <td>0.0</td>\n      <td>0.0</td>\n      <td>0.0</td>\n      <td>0.0</td>\n      <td>0</td>\n      <td>1</td>\n      <td>0</td>\n    </tr>\n    <tr>\n      <th>4</th>\n      <td>50966</td>\n      <td>57</td>\n      <td>2</td>\n      <td>0</td>\n      <td>0.0</td>\n      <td>0.0</td>\n      <td>0.0</td>\n      <td>0.0</td>\n      <td>0.000000</td>\n      <td>0.000000</td>\n      <td>...</td>\n      <td>0.0</td>\n      <td>0.0</td>\n      <td>0.0</td>\n      <td>0.0</td>\n      <td>0.0</td>\n      <td>0.0</td>\n      <td>0.0</td>\n      <td>0</td>\n      <td>1</td>\n      <td>0</td>\n    </tr>\n  </tbody>\n</table>\n<p>5 rows × 70 columns</p>\n</div>"
     },
     "metadata": {},
     "execution_count": 71
    }
   ],
   "source": [
    "preprocessing.train_labels.head()"
   ]
  },
  {
   "cell_type": "code",
   "execution_count": 73,
   "metadata": {},
   "outputs": [],
   "source": [
    "preprocessing.train_labels.to_csv(\"preprocessed_train_multi.csv\")\n",
    "preprocessing.test_labels.to_csv(\"preprocessed_test_multi.csv\")"
   ]
  },
  {
   "cell_type": "code",
   "execution_count": null,
   "metadata": {},
   "outputs": [],
   "source": []
  }
 ]
}